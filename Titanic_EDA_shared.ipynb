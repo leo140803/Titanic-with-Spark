{
 "cells": [
  {
   "cell_type": "markdown",
   "metadata": {
    "tags": []
   },
   "source": [
    "## The Titanic\n",
    "\n",
    "The RMS Titanic was a British passenger liner that sank in the North Atlantic Ocean in the early morning hours of 15 April 1912, after it collided with an iceberg during its maiden voyage from Southampton to New York City. There were an estimated 2,224 passengers and crew aboard the ship, and more than 1,500 died, making it one of the deadliest commercial peacetime maritime disasters in modern history. The RMS Titanic was the largest ship afloat at the time it entered service and was the second of three Olympic-class ocean liners operated by the White Star Line. The Titanic was built by the Harland and Wolff shipyard in Belfast. Thomas Andrews, her architect, died in the disaster.\n",
    "\n",
    "Titanic has inspired countless books, articles and films (including the 1997 “Titanic” movie starring Kate Winslet and Leonardo DiCaprio), and the ship story has entered the public consciousness as a cautionary tale about the perils of human hubris.\n",
    "\n",
    "<center><img src=\"https://assets.editorial.aetnd.com/uploads/2012/04/sinking-of-the-titanic-gettyimages-542907919-1.jpg\" /></center>\n",
    "\n",
    "Source: [History.com](https://www.history.com/topics/early-20th-century-us/titanic)"
   ]
  },
  {
   "cell_type": "markdown",
   "metadata": {
    "tags": []
   },
   "source": [
    "***\n",
    "### Titanic Dataset\n",
    "\n",
    "The Titanic dataset provides information on the fate of passengers on the Titanic, summarized according to economic status (class), sex, age and survival.\n",
    "\n",
    "Author: Frank E. Harrell Jr., Thomas Cason <br>\n",
    "Source: [Vanderbilt Biostatistics](https://hbiostat.org/data/repo/titanic.html) <br>\n",
    "\n",
    "The original Titanic dataset, describing the survival status of individual passengers on the Titanic. The Titanic data does not contain information from the crew, but it does contain actual ages of half of the passengers. The principal source for data about Titanic passengers is the Encyclopedia Titanica. The datasets used here were begun by a variety of researchers. One of the original sources is Eaton & Haas (1994) Titanic: Triumph and Tragedy, Patrick Stephens Ltd, which includes a passenger list created by many researchers and edited by Michael A. Findlay.\n",
    "\n",
    "Thomas Cason of UVa has greatly updated and improved the Titanic data using the Encyclopedia Titanica and created the dataset here. Some duplicate passengers have been dropped, many errors corrected, many missing ages filled in, and new variables created."
   ]
  },
  {
   "cell_type": "markdown",
   "metadata": {
    "tags": []
   },
   "source": [
    "***\n",
    "### Retrieving Data"
   ]
  },
  {
   "cell_type": "code",
   "execution_count": 1,
   "metadata": {},
   "outputs": [
    {
     "name": "stderr",
     "output_type": "stream",
     "text": [
      "24/05/18 01:11:50 WARN Utils: Your hostname, Leonardos-MacBook-Pro.local resolves to a loopback address: 127.0.0.1; using 192.168.2.106 instead (on interface en0)\n",
      "24/05/18 01:11:50 WARN Utils: Set SPARK_LOCAL_IP if you need to bind to another address\n",
      "Setting default log level to \"WARN\".\n",
      "To adjust logging level use sc.setLogLevel(newLevel). For SparkR, use setLogLevel(newLevel).\n",
      "24/05/18 01:11:50 WARN NativeCodeLoader: Unable to load native-hadoop library for your platform... using builtin-java classes where applicable\n",
      "24/05/18 01:12:07 WARN GarbageCollectionMetrics: To enable non-built-in garbage collector(s) List(G1 Concurrent GC), users should configure it(them) to spark.eventLog.gcMetrics.youngGenerationGarbageCollectors or spark.eventLog.gcMetrics.oldGenerationGarbageCollectors\n"
     ]
    }
   ],
   "source": [
    "from pyspark import SparkContext, SparkConf\n",
    "from pyspark.sql import SparkSession\n",
    "conf = SparkConf().setAppName('myApp') \\\n",
    ".setMaster('local')\n",
    "sc = SparkContext(conf=conf)\n",
    "spark = SparkSession(sc) "
   ]
  },
  {
   "cell_type": "markdown",
   "metadata": {},
   "source": [
    "<div class=\"alert alert-block alert-info\">\n",
    "<details><summary><strong>Tip:</strong></summary>\n",
    "\n",
    "> ```python\n",
    "from pyspark.sql import SparkSession\n",
    "spark = SparkSession.builder.master('__').appName('__').getOrCreate()\n",
    "> ```\n",
    "\n",
    "</details>\n",
    "</div>"
   ]
  },
  {
   "cell_type": "code",
   "execution_count": 2,
   "metadata": {},
   "outputs": [
    {
     "name": "stdout",
     "output_type": "stream",
     "text": [
      "+-----------+--------+------+--------------------------------------------------+------+----+-----+-----+----------------+-------+-----------+--------+\n",
      "|PassengerId|Survived|Pclass|                                              Name|   Sex| Age|SibSp|Parch|          Ticket|   Fare|      Cabin|Embarked|\n",
      "+-----------+--------+------+--------------------------------------------------+------+----+-----+-----+----------------+-------+-----------+--------+\n",
      "|          1|       0|     3|                           Braund, Mr. Owen Harris|  male|  22|    1|    0|       A/5 21171|   7.25|       NULL|       S|\n",
      "|          2|       1|     1|Cumings, Mrs. John Bradley (Florence Briggs Tha...|female|  38|    1|    0|        PC 17599|71.2833|        C85|       C|\n",
      "|          3|       1|     3|                            Heikkinen, Miss. Laina|female|  26|    0|    0|STON/O2. 3101282|  7.925|       NULL|       S|\n",
      "|          4|       1|     1|      Futrelle, Mrs. Jacques Heath (Lily May Peel)|female|  35|    1|    0|          113803|   53.1|       C123|       S|\n",
      "|          5|       0|     3|                          Allen, Mr. William Henry|  male|  35|    0|    0|          373450|   8.05|       NULL|       S|\n",
      "|          6|       0|     3|                                  Moran, Mr. James|  male|NULL|    0|    0|          330877| 8.4583|       NULL|       Q|\n",
      "|          7|       0|     1|                           McCarthy, Mr. Timothy J|  male|  54|    0|    0|           17463|51.8625|        E46|       S|\n",
      "|          8|       0|     3|                    Palsson, Master. Gosta Leonard|  male|   2|    3|    1|          349909| 21.075|       NULL|       S|\n",
      "|          9|       1|     3| Johnson, Mrs. Oscar W (Elisabeth Vilhelmina Berg)|female|  27|    0|    2|          347742|11.1333|       NULL|       S|\n",
      "|         10|       1|     2|               Nasser, Mrs. Nicholas (Adele Achem)|female|  14|    1|    0|          237736|30.0708|       NULL|       C|\n",
      "|         11|       1|     3|                   Sandstrom, Miss. Marguerite Rut|female|   4|    1|    1|         PP 9549|   16.7|         G6|       S|\n",
      "|         12|       1|     1|                          Bonnell, Miss. Elizabeth|female|  58|    0|    0|          113783|  26.55|       C103|       S|\n",
      "|         13|       0|     3|                    Saundercock, Mr. William Henry|  male|  20|    0|    0|       A/5. 2151|   8.05|       NULL|       S|\n",
      "|         14|       0|     3|                       Andersson, Mr. Anders Johan|  male|  39|    1|    5|          347082| 31.275|       NULL|       S|\n",
      "|         15|       0|     3|              Vestrom, Miss. Hulda Amanda Adolfina|female|  14|    0|    0|          350406| 7.8542|       NULL|       S|\n",
      "|         16|       1|     2|                  Hewlett, Mrs. (Mary D Kingcome) |female|  55|    0|    0|          248706|     16|       NULL|       S|\n",
      "|         17|       0|     3|                              Rice, Master. Eugene|  male|   2|    4|    1|          382652| 29.125|       NULL|       Q|\n",
      "|         18|       1|     2|                      Williams, Mr. Charles Eugene|  male|NULL|    0|    0|          244373|     13|       NULL|       S|\n",
      "|         19|       0|     3|Vander Planke, Mrs. Julius (Emelia Maria Vandem...|female|  31|    1|    0|          345763|     18|       NULL|       S|\n",
      "|         20|       1|     3|                           Masselmani, Mrs. Fatima|female|NULL|    0|    0|            2649|  7.225|       NULL|       C|\n",
      "|         21|       0|     2|                              Fynney, Mr. Joseph J|  male|  35|    0|    0|          239865|     26|       NULL|       S|\n",
      "|         22|       1|     2|                             Beesley, Mr. Lawrence|  male|  34|    0|    0|          248698|     13|        D56|       S|\n",
      "|         23|       1|     3|                   \"McGowan, Miss. Anna \"\"Annie\"\"\"|female|  15|    0|    0|          330923| 8.0292|       NULL|       Q|\n",
      "|         24|       1|     1|                      Sloper, Mr. William Thompson|  male|  28|    0|    0|          113788|   35.5|         A6|       S|\n",
      "|         25|       0|     3|                     Palsson, Miss. Torborg Danira|female|   8|    3|    1|          349909| 21.075|       NULL|       S|\n",
      "|         26|       1|     3|Asplund, Mrs. Carl Oscar (Selma Augusta Emilia ...|female|  38|    1|    5|          347077|31.3875|       NULL|       S|\n",
      "|         27|       0|     3|                           Emir, Mr. Farred Chehab|  male|NULL|    0|    0|            2631|  7.225|       NULL|       C|\n",
      "|         28|       0|     1|                    Fortune, Mr. Charles Alexander|  male|  19|    3|    2|           19950|    263|C23 C25 C27|       S|\n",
      "|         29|       1|     3|                 \"O'Dwyer, Miss. Ellen \"\"Nellie\"\"\"|female|NULL|    0|    0|          330959| 7.8792|       NULL|       Q|\n",
      "|         30|       0|     3|                               Todoroff, Mr. Lalio|  male|NULL|    0|    0|          349216| 7.8958|       NULL|       S|\n",
      "+-----------+--------+------+--------------------------------------------------+------+----+-----+-----+----------------+-------+-----------+--------+\n",
      "only showing top 30 rows\n",
      "\n"
     ]
    },
    {
     "name": "stderr",
     "output_type": "stream",
     "text": [
      "24/05/17 08:11:47 WARN GarbageCollectionMetrics: To enable non-built-in garbage collector(s) List(G1 Concurrent GC), users should configure it(them) to spark.eventLog.gcMetrics.youngGenerationGarbageCollectors or spark.eventLog.gcMetrics.oldGenerationGarbageCollectors\n"
     ]
    }
   ],
   "source": [
    "# Read the CSV file containing Titanic dataset into Spark's DataFrame and show it\n",
    "\n",
    "df = spark.read.format('csv').options(header=True).load('train.csv')\n",
    "df.show(30, truncate=50)"
   ]
  },
  {
   "cell_type": "markdown",
   "metadata": {},
   "source": [
    "<div class=\"alert alert-block alert-info\">\n",
    "<details><summary><strong>Tip:</strong></summary>\n",
    "\n",
    "> ```python\n",
    "df = spark.read.format('csv').options(header=True).load('__')\n",
    "df.show(truncate=50)\n",
    "> ```\n",
    "\n",
    "</details>\n",
    "</div>"
   ]
  },
  {
   "cell_type": "code",
   "execution_count": 3,
   "metadata": {},
   "outputs": [],
   "source": [
    "from pyspark.sql.types import *\n",
    "from pyspark.sql.functions import *"
   ]
  },
  {
   "cell_type": "code",
   "execution_count": 4,
   "metadata": {},
   "outputs": [],
   "source": [
    "# Define a UDF function to remove quotes from the passenger's name\n",
    "\n",
    "def remove_quotes(name):\n",
    "    return name.replace('\\\"\\\"', '*').strip('\"').replace('*','\"')\n",
    "\n",
    "remove_quotes_udf = udf(lambda x: remove_quotes(x))"
   ]
  },
  {
   "cell_type": "markdown",
   "metadata": {},
   "source": [
    "<div class=\"alert alert-block alert-info\">\n",
    "<details><summary><strong>Tip:</strong></summary>\n",
    "\n",
    "> ```python\n",
    "def remove_quotes(name):\n",
    "    return name.replace('\\\"\\\"', '*').strip('\"').replace('*', '\"')\n",
    "> ```\n",
    "\n",
    "</details>\n",
    "</div>"
   ]
  },
  {
   "cell_type": "code",
   "execution_count": 5,
   "metadata": {},
   "outputs": [
    {
     "name": "stdout",
     "output_type": "stream",
     "text": [
      "+-----------+--------+------+--------------------------------------------------+------+----+-----+-----+----------------+-------+-----------+--------+\n",
      "|PassengerId|Survived|Pclass|                                              Name|   Sex| Age|SibSp|Parch|          Ticket|   Fare|      Cabin|Embarked|\n",
      "+-----------+--------+------+--------------------------------------------------+------+----+-----+-----+----------------+-------+-----------+--------+\n",
      "|          1|       0|     3|                           Braund, Mr. Owen Harris|  male|  22|    1|    0|       A/5 21171|   7.25|       NULL|       S|\n",
      "|          2|       1|     1|Cumings, Mrs. John Bradley (Florence Briggs Tha...|female|  38|    1|    0|        PC 17599|71.2833|        C85|       C|\n",
      "|          3|       1|     3|                            Heikkinen, Miss. Laina|female|  26|    0|    0|STON/O2. 3101282|  7.925|       NULL|       S|\n",
      "|          4|       1|     1|      Futrelle, Mrs. Jacques Heath (Lily May Peel)|female|  35|    1|    0|          113803|   53.1|       C123|       S|\n",
      "|          5|       0|     3|                          Allen, Mr. William Henry|  male|  35|    0|    0|          373450|   8.05|       NULL|       S|\n",
      "|          6|       0|     3|                                  Moran, Mr. James|  male|NULL|    0|    0|          330877| 8.4583|       NULL|       Q|\n",
      "|          7|       0|     1|                           McCarthy, Mr. Timothy J|  male|  54|    0|    0|           17463|51.8625|        E46|       S|\n",
      "|          8|       0|     3|                    Palsson, Master. Gosta Leonard|  male|   2|    3|    1|          349909| 21.075|       NULL|       S|\n",
      "|          9|       1|     3| Johnson, Mrs. Oscar W (Elisabeth Vilhelmina Berg)|female|  27|    0|    2|          347742|11.1333|       NULL|       S|\n",
      "|         10|       1|     2|               Nasser, Mrs. Nicholas (Adele Achem)|female|  14|    1|    0|          237736|30.0708|       NULL|       C|\n",
      "|         11|       1|     3|                   Sandstrom, Miss. Marguerite Rut|female|   4|    1|    1|         PP 9549|   16.7|         G6|       S|\n",
      "|         12|       1|     1|                          Bonnell, Miss. Elizabeth|female|  58|    0|    0|          113783|  26.55|       C103|       S|\n",
      "|         13|       0|     3|                    Saundercock, Mr. William Henry|  male|  20|    0|    0|       A/5. 2151|   8.05|       NULL|       S|\n",
      "|         14|       0|     3|                       Andersson, Mr. Anders Johan|  male|  39|    1|    5|          347082| 31.275|       NULL|       S|\n",
      "|         15|       0|     3|              Vestrom, Miss. Hulda Amanda Adolfina|female|  14|    0|    0|          350406| 7.8542|       NULL|       S|\n",
      "|         16|       1|     2|                  Hewlett, Mrs. (Mary D Kingcome) |female|  55|    0|    0|          248706|     16|       NULL|       S|\n",
      "|         17|       0|     3|                              Rice, Master. Eugene|  male|   2|    4|    1|          382652| 29.125|       NULL|       Q|\n",
      "|         18|       1|     2|                      Williams, Mr. Charles Eugene|  male|NULL|    0|    0|          244373|     13|       NULL|       S|\n",
      "|         19|       0|     3|Vander Planke, Mrs. Julius (Emelia Maria Vandem...|female|  31|    1|    0|          345763|     18|       NULL|       S|\n",
      "|         20|       1|     3|                           Masselmani, Mrs. Fatima|female|NULL|    0|    0|            2649|  7.225|       NULL|       C|\n",
      "|         21|       0|     2|                              Fynney, Mr. Joseph J|  male|  35|    0|    0|          239865|     26|       NULL|       S|\n",
      "|         22|       1|     2|                             Beesley, Mr. Lawrence|  male|  34|    0|    0|          248698|     13|        D56|       S|\n",
      "|         23|       1|     3|                       McGowan, Miss. Anna \"Annie\"|female|  15|    0|    0|          330923| 8.0292|       NULL|       Q|\n",
      "|         24|       1|     1|                      Sloper, Mr. William Thompson|  male|  28|    0|    0|          113788|   35.5|         A6|       S|\n",
      "|         25|       0|     3|                     Palsson, Miss. Torborg Danira|female|   8|    3|    1|          349909| 21.075|       NULL|       S|\n",
      "|         26|       1|     3|Asplund, Mrs. Carl Oscar (Selma Augusta Emilia ...|female|  38|    1|    5|          347077|31.3875|       NULL|       S|\n",
      "|         27|       0|     3|                           Emir, Mr. Farred Chehab|  male|NULL|    0|    0|            2631|  7.225|       NULL|       C|\n",
      "|         28|       0|     1|                    Fortune, Mr. Charles Alexander|  male|  19|    3|    2|           19950|    263|C23 C25 C27|       S|\n",
      "|         29|       1|     3|                     O'Dwyer, Miss. Ellen \"Nellie\"|female|NULL|    0|    0|          330959| 7.8792|       NULL|       Q|\n",
      "|         30|       0|     3|                               Todoroff, Mr. Lalio|  male|NULL|    0|    0|          349216| 7.8958|       NULL|       S|\n",
      "+-----------+--------+------+--------------------------------------------------+------+----+-----+-----+----------------+-------+-----------+--------+\n",
      "only showing top 30 rows\n",
      "\n"
     ]
    }
   ],
   "source": [
    "# Remove quotes from the passenger's name\n",
    "\n",
    "df = df.withColumn('Name', remove_quotes_udf('Name'))\n",
    "df.show(30, truncate=50)"
   ]
  },
  {
   "cell_type": "markdown",
   "metadata": {},
   "source": [
    "| Field         | Description                                              |\n",
    "|---------------|----------------------------------------------------------|\n",
    "| *PassengerId* | Unique Id of a passenger                                 |\n",
    "| *Survived*    | Survival (0 = No, 1 = Yes)                               |\n",
    "| *Pclass*      | Ticket class                                             |\n",
    "| *Sex*         | Sex                                                      |\n",
    "| *Age*         | Age in years                                             |\n",
    "| *SibSp*       | # of siblings / spouses aboard the Titanic               |\n",
    "| *Parch*       | # of parents / children aboard the Titanic               |\n",
    "| *Ticket*      | Ticket number                                            |\n",
    "| *Fare*        | Passenger fare                                           |\n",
    "| *Cabin*       | Cabin number                                             |\n",
    "| *Embarked*    | Port of Embarkation (Southampton, Cherbourg, Queenstown) |"
   ]
  },
  {
   "cell_type": "markdown",
   "metadata": {
    "tags": []
   },
   "source": [
    "***\n",
    "### Summary Statistics"
   ]
  },
  {
   "cell_type": "code",
   "execution_count": 6,
   "metadata": {},
   "outputs": [
    {
     "name": "stderr",
     "output_type": "stream",
     "text": [
      "24/05/17 08:12:01 WARN SparkStringUtils: Truncated the string representation of a plan since it was too large. This behavior can be adjusted by setting 'spark.sql.debug.maxToStringFields'.\n"
     ]
    },
    {
     "name": "stdout",
     "output_type": "stream",
     "text": [
      "+-------+-------------------+------------------+------------------+------------------+-------------------+-----------------+\n",
      "|summary|           Survived|            Pclass|               Age|             SibSp|              Parch|             Fare|\n",
      "+-------+-------------------+------------------+------------------+------------------+-------------------+-----------------+\n",
      "|  count|                891|               891|               714|               891|                891|              891|\n",
      "|   mean| 0.3838383838383838| 2.308641975308642| 29.69911764705882|0.5230078563411896|0.38159371492704824| 32.2042079685746|\n",
      "| stddev|0.48659245426485753|0.8360712409770491|14.526497332334035|1.1027434322934315| 0.8060572211299488|49.69342859718089|\n",
      "|    min|                  0|                 1|              0.42|                 0|                  0|                0|\n",
      "|    25%|                0.0|               2.0|              20.0|               0.0|                0.0|           7.8958|\n",
      "|    50%|                0.0|               3.0|              28.0|               0.0|                0.0|          14.4542|\n",
      "|    75%|                1.0|               3.0|              38.0|               1.0|                0.0|             31.0|\n",
      "|    max|                  1|                 3|                 9|                 8|                  6|             93.5|\n",
      "+-------+-------------------+------------------+------------------+------------------+-------------------+-----------------+\n",
      "\n"
     ]
    }
   ],
   "source": [
    "# Show the summary statistics of data\n",
    "#SHOW NUMERIC COLUMN ONLY\n",
    "df.select(\"Survived\", \"Pclass\", \"Age\", \"SibSp\", \"Parch\", \"Fare\").summary().show()"
   ]
  },
  {
   "cell_type": "markdown",
   "metadata": {},
   "source": [
    "<div class=\"alert alert-block alert-info\">\n",
    "<details><summary><strong>Tip:</strong></summary>\n",
    "\n",
    "> ```python\n",
    "df.summary().show()\n",
    "> ```\n",
    "\n",
    "</details>\n",
    "</div>"
   ]
  },
  {
   "cell_type": "markdown",
   "metadata": {},
   "source": [
    "<div class=\"alert alert-block alert-warning\">\n",
    "<strong>QUESTION</strong>\n",
    "\n",
    "What's wrong with the summary statistics?\n",
    "</div>\n",
    "\n",
    "<details><summary><em>Hint:</em></summary>\n",
    "    Anything strange with the age?\n",
    "</details>"
   ]
  },
  {
   "cell_type": "code",
   "execution_count": 7,
   "metadata": {},
   "outputs": [
    {
     "name": "stdout",
     "output_type": "stream",
     "text": [
      "+-----------+--------+------+--------------------+------+----+-----+-----+------+-------+-------+--------+\n",
      "|PassengerId|Survived|Pclass|                Name|   Sex| Age|SibSp|Parch|Ticket|   Fare|  Cabin|Embarked|\n",
      "+-----------+--------+------+--------------------+------+----+-----+-----+------+-------+-------+--------+\n",
      "|         79|       1|     2|Caldwell, Master....|  male|0.83|    0|    2|248738|     29|   NULL|       S|\n",
      "|        306|       1|     1|Allison, Master. ...|  male|0.92|    1|    2|113781| 151.55|C22 C26|       S|\n",
      "|        470|       1|     3|Baclini, Miss. He...|female|0.75|    2|    1|  2666|19.2583|   NULL|       C|\n",
      "|        645|       1|     3|Baclini, Miss. Eu...|female|0.75|    2|    1|  2666|19.2583|   NULL|       C|\n",
      "|        756|       1|     2|Hamalainen, Maste...|  male|0.67|    1|    1|250649|   14.5|   NULL|       S|\n",
      "|        804|       1|     3|Thomas, Master. A...|  male|0.42|    0|    1|  2625| 8.5167|   NULL|       C|\n",
      "|        832|       1|     2|Richards, Master....|  male|0.83|    1|    1| 29106|  18.75|   NULL|       S|\n",
      "+-----------+--------+------+--------------------+------+----+-----+-----+------+-------+-------+--------+\n",
      "\n"
     ]
    }
   ],
   "source": [
    "# Retrieve records where Age is below 1 year old\n",
    "df.select('*').filter('Age < 1').show()"
   ]
  },
  {
   "cell_type": "markdown",
   "metadata": {},
   "source": [
    "<div class=\"alert alert-block alert-info\">\n",
    "<details><summary><strong>Tip:</strong></summary>\n",
    "\n",
    "> ```python\n",
    "df.select('*').filter('Age like \"0.%\"').show()\n",
    "> ```\n",
    "\n",
    "</details>\n",
    "</div>"
   ]
  },
  {
   "cell_type": "code",
   "execution_count": 8,
   "metadata": {},
   "outputs": [
    {
     "name": "stdout",
     "output_type": "stream",
     "text": [
      "root\n",
      " |-- PassengerId: string (nullable = true)\n",
      " |-- Survived: string (nullable = true)\n",
      " |-- Pclass: string (nullable = true)\n",
      " |-- Name: string (nullable = true)\n",
      " |-- Sex: string (nullable = true)\n",
      " |-- Age: string (nullable = true)\n",
      " |-- SibSp: string (nullable = true)\n",
      " |-- Parch: string (nullable = true)\n",
      " |-- Ticket: string (nullable = true)\n",
      " |-- Fare: string (nullable = true)\n",
      " |-- Cabin: string (nullable = true)\n",
      " |-- Embarked: string (nullable = true)\n",
      "\n"
     ]
    }
   ],
   "source": [
    "# Try to print the schema\n",
    "\n",
    "df.printSchema()"
   ]
  },
  {
   "cell_type": "markdown",
   "metadata": {},
   "source": [
    "<div class=\"alert alert-block alert-info\">\n",
    "<details><summary><strong>Tip:</strong></summary>\n",
    "\n",
    "> ```python\n",
    "df.printSchema()\n",
    "> ```\n",
    "\n",
    "</details>\n",
    "</div>"
   ]
  },
  {
   "cell_type": "code",
   "execution_count": 9,
   "metadata": {},
   "outputs": [
    {
     "name": "stdout",
     "output_type": "stream",
     "text": [
      "+--------+\n",
      "|Survived|\n",
      "+--------+\n",
      "|       0|\n",
      "|       1|\n",
      "+--------+\n",
      "\n",
      "+------+\n",
      "|Pclass|\n",
      "+------+\n",
      "|     1|\n",
      "|     2|\n",
      "|     3|\n",
      "+------+\n",
      "\n",
      "+------+\n",
      "|   Sex|\n",
      "+------+\n",
      "|female|\n",
      "|  male|\n",
      "+------+\n",
      "\n",
      "+-----+\n",
      "|SibSp|\n",
      "+-----+\n",
      "|    0|\n",
      "|    1|\n",
      "|    2|\n",
      "|    3|\n",
      "|    4|\n",
      "|    5|\n",
      "|    8|\n",
      "+-----+\n",
      "\n",
      "+-----+\n",
      "|Parch|\n",
      "+-----+\n",
      "|    0|\n",
      "|    1|\n",
      "|    2|\n",
      "|    3|\n",
      "|    4|\n",
      "|    5|\n",
      "|    6|\n",
      "+-----+\n",
      "\n",
      "+--------+\n",
      "|Embarked|\n",
      "+--------+\n",
      "|    NULL|\n",
      "|       C|\n",
      "|       Q|\n",
      "|       S|\n",
      "+--------+\n",
      "\n"
     ]
    }
   ],
   "source": [
    "# Print distinct values for particular columns\n",
    "\n",
    "df.select('Survived').distinct().sort('Survived').show()\n",
    "df.select('Pclass').distinct().sort('Pclass').show()\n",
    "df.select('Sex').distinct().sort('Sex').show()\n",
    "df.select('SibSp').distinct().sort('SibSp').show()\n",
    "df.select('Parch').distinct().sort('Parch').show()\n",
    "df.select('Embarked').distinct().sort('Embarked').show()"
   ]
  },
  {
   "cell_type": "markdown",
   "metadata": {},
   "source": [
    "<div class=\"alert alert-block alert-info\">\n",
    "<details><summary><strong>Tip:</strong></summary>\n",
    "\n",
    "> ```python\n",
    "df.select('___').distinct().sort('___').show()\n",
    "> ```\n",
    "\n",
    "</details>\n",
    "</div>"
   ]
  },
  {
   "cell_type": "code",
   "execution_count": 10,
   "metadata": {
    "tags": []
   },
   "outputs": [
    {
     "name": "stdout",
     "output_type": "stream",
     "text": [
      "root\n",
      " |-- PassengerId: string (nullable = true)\n",
      " |-- Survived: integer (nullable = true)\n",
      " |-- Pclass: integer (nullable = true)\n",
      " |-- Name: string (nullable = true)\n",
      " |-- Sex: string (nullable = true)\n",
      " |-- Age: double (nullable = true)\n",
      " |-- SibSp: integer (nullable = true)\n",
      " |-- Parch: integer (nullable = true)\n",
      " |-- Ticket: string (nullable = true)\n",
      " |-- Fare: integer (nullable = true)\n",
      " |-- Cabin: string (nullable = true)\n",
      " |-- Embarked: string (nullable = true)\n",
      "\n"
     ]
    }
   ],
   "source": [
    "# Correct the data types of some columns\n",
    "\n",
    "df = df.withColumn('Survived', col('Survived').cast('integer'))\n",
    "df = df.withColumn('Pclass', col('Pclass').cast('integer'))\n",
    "df = df.withColumn('SibSp', col('SibSp').cast('integer'))\n",
    "df = df.withColumn('Parch', col('Parch').cast('integer'))\n",
    "df = df.withColumn('Age', col('Age').cast('double'))\n",
    "df = df.withColumn('Fare', col('Fare').cast('integer'))\n",
    "\n",
    "df.printSchema()"
   ]
  },
  {
   "cell_type": "markdown",
   "metadata": {},
   "source": [
    "<div class=\"alert alert-block alert-info\">\n",
    "<details><summary><strong>Tip:</strong></summary>\n",
    "\n",
    "> ```python\n",
    "df = df.withColumn('__', col('__').cast('__'))\n",
    "> ```\n",
    "\n",
    "</details>\n",
    "</div>"
   ]
  },
  {
   "cell_type": "code",
   "execution_count": 11,
   "metadata": {},
   "outputs": [
    {
     "name": "stdout",
     "output_type": "stream",
     "text": [
      "+-------+-------------------+------------------+------------------+------------------+-------------------+-----------------+\n",
      "|summary|           Survived|            Pclass|               Age|             SibSp|              Parch|             Fare|\n",
      "+-------+-------------------+------------------+------------------+------------------+-------------------+-----------------+\n",
      "|  count|                891|               891|               714|               891|                891|              891|\n",
      "|   mean| 0.3838383838383838| 2.308641975308642| 29.69911764705882|0.5230078563411896|0.38159371492704824|31.78563411896745|\n",
      "| stddev|0.48659245426485753|0.8360712409770491|14.526497332334035|1.1027434322934315| 0.8060572211299488|49.70372961066204|\n",
      "|    min|                  0|                 1|              0.42|                 0|                  0|                0|\n",
      "|    25%|                  0|                 2|              20.0|                 0|                  0|                7|\n",
      "|    50%|                  0|                 3|              28.0|                 0|                  0|               14|\n",
      "|    75%|                  1|                 3|              38.0|                 1|                  0|               31|\n",
      "|    max|                  1|                 3|              80.0|                 8|                  6|              512|\n",
      "+-------+-------------------+------------------+------------------+------------------+-------------------+-----------------+\n",
      "\n"
     ]
    }
   ],
   "source": [
    "# Check the summary statistics again\n",
    "df.select(\"Survived\", \"Pclass\", \"Age\", \"SibSp\", \"Parch\", \"Fare\").summary().show()"
   ]
  },
  {
   "cell_type": "markdown",
   "metadata": {
    "tags": []
   },
   "source": [
    "***\n",
    "### Missing Values"
   ]
  },
  {
   "cell_type": "code",
   "execution_count": 12,
   "metadata": {},
   "outputs": [
    {
     "name": "stdout",
     "output_type": "stream",
     "text": [
      "+-----------+--------+------+----+---+---+-----+-----+------+----+-----+--------+\n",
      "|PassengerId|Survived|Pclass|Name|Sex|Age|SibSp|Parch|Ticket|Fare|Cabin|Embarked|\n",
      "+-----------+--------+------+----+---+---+-----+-----+------+----+-----+--------+\n",
      "|          0|       0|     0|   0|  0|177|    0|    0|     0|   0|  687|       2|\n",
      "+-----------+--------+------+----+---+---+-----+-----+------+----+-----+--------+\n",
      "\n"
     ]
    }
   ],
   "source": [
    "# Count the number of missing values on each column\n",
    "\n",
    "df.select([count(when(isnan(c) | isnull(c), 1)).alias(c) for c in df.columns]).show()"
   ]
  },
  {
   "cell_type": "markdown",
   "metadata": {},
   "source": [
    "<div class=\"alert alert-block alert-info\">\n",
    "<details><summary><strong>Tip:</strong></summary>\n",
    "\n",
    "> ```python\n",
    "df.select([count(when(isnan(c) | isnull(c), 1)).alias(c) for c in df.columns]).show()\n",
    "> ```\n",
    "\n",
    "</details>\n",
    "</div>"
   ]
  },
  {
   "cell_type": "markdown",
   "metadata": {},
   "source": [
    "<div class=\"alert alert-block alert-warning\">\n",
    "<strong>QUESTION</strong>\n",
    "\n",
    "Can you fill the missing values in 'Embarked' and 'Age'?\n",
    "</div>\n",
    "\n",
    "<details><summary><em>Hint:</em></summary>\n",
    "    Using the mode, average, median, etc.\n",
    "</details>"
   ]
  },
  {
   "cell_type": "markdown",
   "metadata": {
    "tags": []
   },
   "source": [
    "##### Where was Titanic going?\n",
    "The Titanic was on her maiden voyage, a return trip from Britain to America. The outward route was to be <strong>S</strong>outhampton (England) – <strong>C</strong>herbourg (France) – <strong>Q</strong>ueenstown (Ireland) – New York (USA). The return route was going to be New York – Plymouth (England) – Cherbourg – Southampton.\n",
    "\n",
    "<center><img src=\"https://upload.wikimedia.org/wikipedia/commons/5/51/Titanic_voyage_map.png\" /></center>"
   ]
  },
  {
   "cell_type": "code",
   "execution_count": 13,
   "metadata": {},
   "outputs": [
    {
     "name": "stdout",
     "output_type": "stream",
     "text": [
      "+-----------+--------+------+-----------------------------------------+------+----+-----+-----+------+----+-----+--------+\n",
      "|PassengerId|Survived|Pclass|                                     Name|   Sex| Age|SibSp|Parch|Ticket|Fare|Cabin|Embarked|\n",
      "+-----------+--------+------+-----------------------------------------+------+----+-----+-----+------+----+-----+--------+\n",
      "|         62|       1|     1|                      Icard, Miss. Amelie|female|38.0|    0|    0|113572|  80|  B28|    NULL|\n",
      "|        830|       1|     1|Stone, Mrs. George Nelson (Martha Evelyn)|female|62.0|    0|    0|113572|  80|  B28|    NULL|\n",
      "+-----------+--------+------+-----------------------------------------+------+----+-----+-----+------+----+-----+--------+\n",
      "\n"
     ]
    }
   ],
   "source": [
    "# Show the records with null value on column Embarked\n",
    "\n",
    "df.select('*').filter(df.Embarked.isNull()).show(truncate=50)"
   ]
  },
  {
   "cell_type": "markdown",
   "metadata": {},
   "source": [
    "<div class=\"alert alert-block alert-info\">\n",
    "<details><summary><strong>Tip:</strong></summary>\n",
    "\n",
    "> ```python\n",
    "df.select('*').filter(df.Embarked.isNull()).show(truncate=50)\n",
    "> ```\n",
    "\n",
    "</details>\n",
    "</div>"
   ]
  },
  {
   "cell_type": "code",
   "execution_count": 14,
   "metadata": {},
   "outputs": [
    {
     "name": "stdout",
     "output_type": "stream",
     "text": [
      "644\n",
      "168\n",
      "77\n"
     ]
    }
   ],
   "source": [
    "# Count the number of passengers embarking from each port\n",
    "\n",
    "print(df.filter(df.Embarked == 'S').count())\n",
    "print(df.filter(df.Embarked == 'C').count())\n",
    "print(df.filter(df.Embarked == 'Q').count())"
   ]
  },
  {
   "cell_type": "markdown",
   "metadata": {},
   "source": [
    "<div class=\"alert alert-block alert-info\">\n",
    "<details><summary><strong>Tip:</strong></summary>\n",
    "\n",
    "> ```python\n",
    "print(df.filter(df.Embarked == '_').count())\n",
    "> ```\n",
    "\n",
    "</details>\n",
    "</div>"
   ]
  },
  {
   "cell_type": "code",
   "execution_count": 15,
   "metadata": {},
   "outputs": [
    {
     "name": "stdout",
     "output_type": "stream",
     "text": [
      "+-----------+--------+------+--------------------+------+----+-----+-----+----------------+----+-----+--------+\n",
      "|PassengerId|Survived|Pclass|                Name|   Sex| Age|SibSp|Parch|          Ticket|Fare|Cabin|Embarked|\n",
      "+-----------+--------+------+--------------------+------+----+-----+-----+----------------+----+-----+--------+\n",
      "|          1|       0|     3|Braund, Mr. Owen ...|  male|22.0|    1|    0|       A/5 21171|   7| NULL|       S|\n",
      "|          2|       1|     1|Cumings, Mrs. Joh...|female|38.0|    1|    0|        PC 17599|  71|  C85|       C|\n",
      "|          3|       1|     3|Heikkinen, Miss. ...|female|26.0|    0|    0|STON/O2. 3101282|   7| NULL|       S|\n",
      "|          4|       1|     1|Futrelle, Mrs. Ja...|female|35.0|    1|    0|          113803|  53| C123|       S|\n",
      "|          5|       0|     3|Allen, Mr. Willia...|  male|35.0|    0|    0|          373450|   8| NULL|       S|\n",
      "|          6|       0|     3|    Moran, Mr. James|  male|NULL|    0|    0|          330877|   8| NULL|       Q|\n",
      "|          7|       0|     1|McCarthy, Mr. Tim...|  male|54.0|    0|    0|           17463|  51|  E46|       S|\n",
      "|          8|       0|     3|Palsson, Master. ...|  male| 2.0|    3|    1|          349909|  21| NULL|       S|\n",
      "|          9|       1|     3|Johnson, Mrs. Osc...|female|27.0|    0|    2|          347742|  11| NULL|       S|\n",
      "|         10|       1|     2|Nasser, Mrs. Nich...|female|14.0|    1|    0|          237736|  30| NULL|       C|\n",
      "|         11|       1|     3|Sandstrom, Miss. ...|female| 4.0|    1|    1|         PP 9549|  16|   G6|       S|\n",
      "|         12|       1|     1|Bonnell, Miss. El...|female|58.0|    0|    0|          113783|  26| C103|       S|\n",
      "|         13|       0|     3|Saundercock, Mr. ...|  male|20.0|    0|    0|       A/5. 2151|   8| NULL|       S|\n",
      "|         14|       0|     3|Andersson, Mr. An...|  male|39.0|    1|    5|          347082|  31| NULL|       S|\n",
      "|         15|       0|     3|Vestrom, Miss. Hu...|female|14.0|    0|    0|          350406|   7| NULL|       S|\n",
      "|         16|       1|     2|Hewlett, Mrs. (Ma...|female|55.0|    0|    0|          248706|  16| NULL|       S|\n",
      "|         17|       0|     3|Rice, Master. Eugene|  male| 2.0|    4|    1|          382652|  29| NULL|       Q|\n",
      "|         18|       1|     2|Williams, Mr. Cha...|  male|NULL|    0|    0|          244373|  13| NULL|       S|\n",
      "|         19|       0|     3|Vander Planke, Mr...|female|31.0|    1|    0|          345763|  18| NULL|       S|\n",
      "|         20|       1|     3|Masselmani, Mrs. ...|female|NULL|    0|    0|            2649|   7| NULL|       C|\n",
      "+-----------+--------+------+--------------------+------+----+-----+-----+----------------+----+-----+--------+\n",
      "only showing top 20 rows\n",
      "\n",
      "+-----------+--------+------+----+---+---+-----+-----+------+----+-----+--------+\n",
      "|PassengerId|Survived|Pclass|Name|Sex|Age|SibSp|Parch|Ticket|Fare|Cabin|Embarked|\n",
      "+-----------+--------+------+----+---+---+-----+-----+------+----+-----+--------+\n",
      "|          0|       0|     0|   0|  0|177|    0|    0|     0|   0|  687|       0|\n",
      "+-----------+--------+------+----+---+---+-----+-----+------+----+-----+--------+\n",
      "\n"
     ]
    }
   ],
   "source": [
    "# Fill the Embarked's missing value with the mode (i.e., most frequent value)\n",
    "\n",
    "df = df.fillna({'Embarked': 'S'})\n",
    "df.show()\n",
    "df.select([count(when(isnan(c) | isnull(c), 1)).alias(c) for c in df.columns]).show()"
   ]
  },
  {
   "cell_type": "markdown",
   "metadata": {},
   "source": [
    "<div class=\"alert alert-block alert-info\">\n",
    "<details><summary><strong>Tip:</strong></summary>\n",
    "\n",
    "> ```python\n",
    "df = df.fillna({'Embarked':'_'})\n",
    "> ```\n",
    "\n",
    "</details>\n",
    "</div>"
   ]
  },
  {
   "cell_type": "markdown",
   "metadata": {
    "tags": []
   },
   "source": [
    "##### English honorifics\n",
    "An honorific is a form of address conveying esteem, courtesy or respect. These can be titles prefixing a person’s name, e.g.: Mr, Mrs, Miss, Ms, Mx, Sir, Dame, Dr, Cllr, Lady or Lord, or titles or positions that can appear as a form of address without the person’s name, as in Mr President, General, Captain, Father, Doctor or Earl.\n",
    "\n",
    "Source: [Wikipedia](https://en.wikipedia.org/wiki/English_honorifics)"
   ]
  },
  {
   "cell_type": "code",
   "execution_count": 16,
   "metadata": {},
   "outputs": [],
   "source": [
    "# Define a UDF function to extract the passenger's title\n",
    "\n",
    "def extract_title(name):\n",
    "    return name.split(\",\")[1].split(\".\")[0].strip()\n",
    "\n",
    "extract_title_udf = udf(lambda x: extract_title(x))"
   ]
  },
  {
   "cell_type": "markdown",
   "metadata": {},
   "source": [
    "<div class=\"alert alert-block alert-info\">\n",
    "<details><summary><strong>Tip:</strong></summary>\n",
    "\n",
    "> ```python\n",
    "> def extract_title(name):\n",
    ">     return name.split(\",\")[1].split(\".\")[0].strip()\n",
    "> \n",
    "> extract_title_udf = udf(lambda x: extract_title(x))\n",
    "> ```\n",
    "\n",
    "</details>\n",
    "</div>"
   ]
  },
  {
   "cell_type": "code",
   "execution_count": 17,
   "metadata": {},
   "outputs": [
    {
     "name": "stdout",
     "output_type": "stream",
     "text": [
      "+-----------+--------+------+--------------------+------+----+-----+-----+----------------+----+-----+--------+------+\n",
      "|PassengerId|Survived|Pclass|                Name|   Sex| Age|SibSp|Parch|          Ticket|Fare|Cabin|Embarked|pTitle|\n",
      "+-----------+--------+------+--------------------+------+----+-----+-----+----------------+----+-----+--------+------+\n",
      "|          1|       0|     3|Braund, Mr. Owen ...|  male|22.0|    1|    0|       A/5 21171|   7| NULL|       S|    Mr|\n",
      "|          2|       1|     1|Cumings, Mrs. Joh...|female|38.0|    1|    0|        PC 17599|  71|  C85|       C|   Mrs|\n",
      "|          3|       1|     3|Heikkinen, Miss. ...|female|26.0|    0|    0|STON/O2. 3101282|   7| NULL|       S|  Miss|\n",
      "|          4|       1|     1|Futrelle, Mrs. Ja...|female|35.0|    1|    0|          113803|  53| C123|       S|   Mrs|\n",
      "|          5|       0|     3|Allen, Mr. Willia...|  male|35.0|    0|    0|          373450|   8| NULL|       S|    Mr|\n",
      "|          6|       0|     3|    Moran, Mr. James|  male|NULL|    0|    0|          330877|   8| NULL|       Q|    Mr|\n",
      "|          7|       0|     1|McCarthy, Mr. Tim...|  male|54.0|    0|    0|           17463|  51|  E46|       S|    Mr|\n",
      "|          8|       0|     3|Palsson, Master. ...|  male| 2.0|    3|    1|          349909|  21| NULL|       S|Master|\n",
      "|          9|       1|     3|Johnson, Mrs. Osc...|female|27.0|    0|    2|          347742|  11| NULL|       S|   Mrs|\n",
      "|         10|       1|     2|Nasser, Mrs. Nich...|female|14.0|    1|    0|          237736|  30| NULL|       C|   Mrs|\n",
      "|         11|       1|     3|Sandstrom, Miss. ...|female| 4.0|    1|    1|         PP 9549|  16|   G6|       S|  Miss|\n",
      "|         12|       1|     1|Bonnell, Miss. El...|female|58.0|    0|    0|          113783|  26| C103|       S|  Miss|\n",
      "|         13|       0|     3|Saundercock, Mr. ...|  male|20.0|    0|    0|       A/5. 2151|   8| NULL|       S|    Mr|\n",
      "|         14|       0|     3|Andersson, Mr. An...|  male|39.0|    1|    5|          347082|  31| NULL|       S|    Mr|\n",
      "|         15|       0|     3|Vestrom, Miss. Hu...|female|14.0|    0|    0|          350406|   7| NULL|       S|  Miss|\n",
      "|         16|       1|     2|Hewlett, Mrs. (Ma...|female|55.0|    0|    0|          248706|  16| NULL|       S|   Mrs|\n",
      "|         17|       0|     3|Rice, Master. Eugene|  male| 2.0|    4|    1|          382652|  29| NULL|       Q|Master|\n",
      "|         18|       1|     2|Williams, Mr. Cha...|  male|NULL|    0|    0|          244373|  13| NULL|       S|    Mr|\n",
      "|         19|       0|     3|Vander Planke, Mr...|female|31.0|    1|    0|          345763|  18| NULL|       S|   Mrs|\n",
      "|         20|       1|     3|Masselmani, Mrs. ...|female|NULL|    0|    0|            2649|   7| NULL|       C|   Mrs|\n",
      "+-----------+--------+------+--------------------+------+----+-----+-----+----------------+----+-----+--------+------+\n",
      "only showing top 20 rows\n",
      "\n"
     ]
    }
   ],
   "source": [
    "# Add a new 'Title' column on the data\n",
    "\n",
    "df = df.withColumn('pTitle', extract_title_udf('Name'))\n",
    "df.show()"
   ]
  },
  {
   "cell_type": "markdown",
   "metadata": {},
   "source": [
    "<div class=\"alert alert-block alert-info\">\n",
    "<details><summary><strong>Tip:</strong></summary>\n",
    "\n",
    "> ```python\n",
    "df = df.withColumn('__', extract_title_udf('__'))\n",
    "> ```\n",
    "\n",
    "</details>\n",
    "</div>"
   ]
  },
  {
   "cell_type": "code",
   "execution_count": 18,
   "metadata": {},
   "outputs": [
    {
     "name": "stdout",
     "output_type": "stream",
     "text": [
      "+------------+------------------+\n",
      "|      pTitle|          avg(Age)|\n",
      "+------------+------------------+\n",
      "|         Don|              40.0|\n",
      "|        Miss|21.773972602739725|\n",
      "|         Col|              58.0|\n",
      "|         Rev|43.166666666666664|\n",
      "|        Lady|              48.0|\n",
      "|      Master| 4.574166666666667|\n",
      "|         Mme|              24.0|\n",
      "|        Capt|              70.0|\n",
      "|          Mr|32.368090452261306|\n",
      "|          Dr|              42.0|\n",
      "|         Mrs|35.898148148148145|\n",
      "|         Sir|              49.0|\n",
      "|    Jonkheer|              38.0|\n",
      "|        Mlle|              24.0|\n",
      "|       Major|              48.5|\n",
      "|          Ms|              28.0|\n",
      "|the Countess|              33.0|\n",
      "+------------+------------------+\n",
      "\n"
     ]
    }
   ],
   "source": [
    "# Determine the average Age based on the Title\n",
    "\n",
    "age_df = df.select([\"pTitle\", \"Age\"]).groupby('pTitle').avg()\n",
    "age_df.show()"
   ]
  },
  {
   "cell_type": "code",
   "execution_count": 19,
   "metadata": {},
   "outputs": [
    {
     "name": "stdout",
     "output_type": "stream",
     "text": [
      "+-----------+--------+------+--------------------+------+----+-----+-----+----------------+----+-----+--------+------+\n",
      "|PassengerId|Survived|Pclass|                Name|   Sex| Age|SibSp|Parch|          Ticket|Fare|Cabin|Embarked|pTitle|\n",
      "+-----------+--------+------+--------------------+------+----+-----+-----+----------------+----+-----+--------+------+\n",
      "|          1|       0|     3|Braund, Mr. Owen ...|  male|22.0|    1|    0|       A/5 21171|   7| NULL|       S|    Mr|\n",
      "|          2|       1|     1|Cumings, Mrs. Joh...|female|38.0|    1|    0|        PC 17599|  71|  C85|       C|   Mrs|\n",
      "|          3|       1|     3|Heikkinen, Miss. ...|female|26.0|    0|    0|STON/O2. 3101282|   7| NULL|       S|  Miss|\n",
      "|          4|       1|     1|Futrelle, Mrs. Ja...|female|35.0|    1|    0|          113803|  53| C123|       S|   Mrs|\n",
      "|          5|       0|     3|Allen, Mr. Willia...|  male|35.0|    0|    0|          373450|   8| NULL|       S|    Mr|\n",
      "|          6|       0|     3|    Moran, Mr. James|  male|NULL|    0|    0|          330877|   8| NULL|       Q|    Mr|\n",
      "|          7|       0|     1|McCarthy, Mr. Tim...|  male|54.0|    0|    0|           17463|  51|  E46|       S|    Mr|\n",
      "|          8|       0|     3|Palsson, Master. ...|  male| 2.0|    3|    1|          349909|  21| NULL|       S|Master|\n",
      "|          9|       1|     3|Johnson, Mrs. Osc...|female|27.0|    0|    2|          347742|  11| NULL|       S|   Mrs|\n",
      "|         10|       1|     2|Nasser, Mrs. Nich...|female|14.0|    1|    0|          237736|  30| NULL|       C|   Mrs|\n",
      "|         11|       1|     3|Sandstrom, Miss. ...|female| 4.0|    1|    1|         PP 9549|  16|   G6|       S|  Miss|\n",
      "|         12|       1|     1|Bonnell, Miss. El...|female|58.0|    0|    0|          113783|  26| C103|       S|  Miss|\n",
      "|         13|       0|     3|Saundercock, Mr. ...|  male|20.0|    0|    0|       A/5. 2151|   8| NULL|       S|    Mr|\n",
      "|         14|       0|     3|Andersson, Mr. An...|  male|39.0|    1|    5|          347082|  31| NULL|       S|    Mr|\n",
      "|         15|       0|     3|Vestrom, Miss. Hu...|female|14.0|    0|    0|          350406|   7| NULL|       S|  Miss|\n",
      "|         16|       1|     2|Hewlett, Mrs. (Ma...|female|55.0|    0|    0|          248706|  16| NULL|       S|   Mrs|\n",
      "|         17|       0|     3|Rice, Master. Eugene|  male| 2.0|    4|    1|          382652|  29| NULL|       Q|Master|\n",
      "|         18|       1|     2|Williams, Mr. Cha...|  male|NULL|    0|    0|          244373|  13| NULL|       S|    Mr|\n",
      "|         19|       0|     3|Vander Planke, Mr...|female|31.0|    1|    0|          345763|  18| NULL|       S|   Mrs|\n",
      "|         20|       1|     3|Masselmani, Mrs. ...|female|NULL|    0|    0|            2649|   7| NULL|       C|   Mrs|\n",
      "+-----------+--------+------+--------------------+------+----+-----+-----+----------------+----+-----+--------+------+\n",
      "only showing top 20 rows\n",
      "\n"
     ]
    }
   ],
   "source": [
    "df.show()"
   ]
  },
  {
   "cell_type": "markdown",
   "metadata": {},
   "source": [
    "<div class=\"alert alert-block alert-info\">\n",
    "<details><summary><strong>Tip:</strong></summary>\n",
    "\n",
    "> ```python\n",
    "age_df = df.select(['__', '__']).groupby('__').avg()\n",
    "> ```\n",
    "\n",
    "</details>\n",
    "</div>"
   ]
  },
  {
   "cell_type": "code",
   "execution_count": 20,
   "metadata": {},
   "outputs": [
    {
     "name": "stdout",
     "output_type": "stream",
     "text": [
      "+------+-----------+--------+------+--------------------+------+------------------+-----+-----+----------------+----+-----+--------+\n",
      "|pTitle|PassengerId|Survived|Pclass|                Name|   Sex|               Age|SibSp|Parch|          Ticket|Fare|Cabin|Embarked|\n",
      "+------+-----------+--------+------+--------------------+------+------------------+-----+-----+----------------+----+-----+--------+\n",
      "|    Mr|          1|       0|     3|Braund, Mr. Owen ...|  male|              22.0|    1|    0|       A/5 21171|   7| NULL|       S|\n",
      "|   Mrs|          2|       1|     1|Cumings, Mrs. Joh...|female|              38.0|    1|    0|        PC 17599|  71|  C85|       C|\n",
      "|  Miss|          3|       1|     3|Heikkinen, Miss. ...|female|              26.0|    0|    0|STON/O2. 3101282|   7| NULL|       S|\n",
      "|   Mrs|          4|       1|     1|Futrelle, Mrs. Ja...|female|              35.0|    1|    0|          113803|  53| C123|       S|\n",
      "|    Mr|          5|       0|     3|Allen, Mr. Willia...|  male|              35.0|    0|    0|          373450|   8| NULL|       S|\n",
      "|    Mr|          6|       0|     3|    Moran, Mr. James|  male|32.368090452261306|    0|    0|          330877|   8| NULL|       Q|\n",
      "|    Mr|          7|       0|     1|McCarthy, Mr. Tim...|  male|              54.0|    0|    0|           17463|  51|  E46|       S|\n",
      "|Master|          8|       0|     3|Palsson, Master. ...|  male|               2.0|    3|    1|          349909|  21| NULL|       S|\n",
      "|   Mrs|          9|       1|     3|Johnson, Mrs. Osc...|female|              27.0|    0|    2|          347742|  11| NULL|       S|\n",
      "|   Mrs|         10|       1|     2|Nasser, Mrs. Nich...|female|              14.0|    1|    0|          237736|  30| NULL|       C|\n",
      "|  Miss|         11|       1|     3|Sandstrom, Miss. ...|female|               4.0|    1|    1|         PP 9549|  16|   G6|       S|\n",
      "|  Miss|         12|       1|     1|Bonnell, Miss. El...|female|              58.0|    0|    0|          113783|  26| C103|       S|\n",
      "|    Mr|         13|       0|     3|Saundercock, Mr. ...|  male|              20.0|    0|    0|       A/5. 2151|   8| NULL|       S|\n",
      "|    Mr|         14|       0|     3|Andersson, Mr. An...|  male|              39.0|    1|    5|          347082|  31| NULL|       S|\n",
      "|  Miss|         15|       0|     3|Vestrom, Miss. Hu...|female|              14.0|    0|    0|          350406|   7| NULL|       S|\n",
      "|   Mrs|         16|       1|     2|Hewlett, Mrs. (Ma...|female|              55.0|    0|    0|          248706|  16| NULL|       S|\n",
      "|Master|         17|       0|     3|Rice, Master. Eugene|  male|               2.0|    4|    1|          382652|  29| NULL|       Q|\n",
      "|    Mr|         18|       1|     2|Williams, Mr. Cha...|  male|32.368090452261306|    0|    0|          244373|  13| NULL|       S|\n",
      "|   Mrs|         19|       0|     3|Vander Planke, Mr...|female|              31.0|    1|    0|          345763|  18| NULL|       S|\n",
      "|   Mrs|         20|       1|     3|Masselmani, Mrs. ...|female|35.898148148148145|    0|    0|            2649|   7| NULL|       C|\n",
      "+------+-----------+--------+------+--------------------+------+------------------+-----+-----+----------------+----+-----+--------+\n",
      "only showing top 20 rows\n",
      "\n",
      "+------+-----------+--------+------+----+---+---+-----+-----+------+----+-----+--------+\n",
      "|pTitle|PassengerId|Survived|Pclass|Name|Sex|Age|SibSp|Parch|Ticket|Fare|Cabin|Embarked|\n",
      "+------+-----------+--------+------+----+---+---+-----+-----+------+----+-----+--------+\n",
      "|     0|          0|       0|     0|   0|  0|  0|    0|    0|     0|   0|  687|       0|\n",
      "+------+-----------+--------+------+----+---+---+-----+-----+------+----+-----+--------+\n",
      "\n"
     ]
    }
   ],
   "source": [
    "# Fill the Age's missing value with the average Age (based on the Title)\n",
    "\n",
    "df = df.join(age_df, on='pTitle', how='inner')\n",
    "\n",
    "# Use coalesce to fill missing values in 'Age' with 'avgAge'\n",
    "# Make sure to use col() to reference columns\n",
    "df = df.withColumn('Age', coalesce(col('Age'), col('avg(Age)')))\n",
    "\n",
    "# Drop the 'avgAge' column if no longer needed\n",
    "df = df.drop('avg(Age)')\n",
    "\n",
    "# Show the DataFrame to confirm that missing 'Age' values are filled\n",
    "df.show()\n",
    "df.select([count(when(isnan(c) | isnull(c), 1)).alias(c) for c in df.columns]).show()"
   ]
  },
  {
   "cell_type": "markdown",
   "metadata": {},
   "source": [
    "<div class=\"alert alert-block alert-info\">\n",
    "<details><summary><strong>Tip:</strong></summary>\n",
    "\n",
    "> ```python\n",
    "df = df.join(age_df, on='__', how='inner')\n",
    "df = df.withColumn('Age', coalesce('Age', '__'))\n",
    "df = df.drop('__')\n",
    "> ```\n",
    "\n",
    "</details>\n",
    "</div>"
   ]
  },
  {
   "cell_type": "markdown",
   "metadata": {
    "tags": []
   },
   "source": [
    "***\n",
    "### Storing Pre-processed Data"
   ]
  },
  {
   "cell_type": "code",
   "execution_count": 21,
   "metadata": {},
   "outputs": [
    {
     "data": {
      "text/plain": [
       "1"
      ]
     },
     "execution_count": 21,
     "metadata": {},
     "output_type": "execute_result"
    }
   ],
   "source": [
    "df.rdd.getNumPartitions()"
   ]
  },
  {
   "cell_type": "code",
   "execution_count": 22,
   "metadata": {},
   "outputs": [
    {
     "ename": "AnalysisException",
     "evalue": "[PATH_ALREADY_EXISTS] Path file:/Users/leonardonickholasandrianto/Documents/Kuliah/Semester 6/BIG DATA/Tugas/modified already exists. Set mode as \"overwrite\" to overwrite the existing path.",
     "output_type": "error",
     "traceback": [
      "\u001b[0;31m---------------------------------------------------------------------------\u001b[0m",
      "\u001b[0;31mAnalysisException\u001b[0m                         Traceback (most recent call last)",
      "Cell \u001b[0;32mIn[22], line 2\u001b[0m\n\u001b[1;32m      1\u001b[0m \u001b[38;5;66;03m# Save the pre-processed data to a CSV file (if necessary, firstly combine data into 1 partition)\u001b[39;00m\n\u001b[0;32m----> 2\u001b[0m \u001b[43mdf\u001b[49m\u001b[38;5;241;43m.\u001b[39;49m\u001b[43mrepartition\u001b[49m\u001b[43m(\u001b[49m\u001b[38;5;241;43m1\u001b[39;49m\u001b[43m)\u001b[49m\u001b[38;5;241;43m.\u001b[39;49m\u001b[43mwrite\u001b[49m\u001b[38;5;241;43m.\u001b[39;49m\u001b[43moption\u001b[49m\u001b[43m(\u001b[49m\u001b[38;5;124;43m'\u001b[39;49m\u001b[38;5;124;43mheader\u001b[39;49m\u001b[38;5;124;43m'\u001b[39;49m\u001b[43m,\u001b[49m\u001b[43m \u001b[49m\u001b[38;5;28;43;01mTrue\u001b[39;49;00m\u001b[43m)\u001b[49m\u001b[38;5;241;43m.\u001b[39;49m\u001b[43moption\u001b[49m\u001b[43m(\u001b[49m\u001b[38;5;124;43m'\u001b[39;49m\u001b[38;5;124;43mescape\u001b[39;49m\u001b[38;5;124;43m'\u001b[39;49m\u001b[43m,\u001b[49m\u001b[43m \u001b[49m\u001b[38;5;124;43m'\u001b[39;49m\u001b[38;5;124;43m\"\u001b[39;49m\u001b[38;5;124;43m'\u001b[39;49m\u001b[43m)\u001b[49m\u001b[38;5;241;43m.\u001b[39;49m\u001b[43mcsv\u001b[49m\u001b[43m(\u001b[49m\u001b[38;5;124;43m'\u001b[39;49m\u001b[38;5;124;43mmodified\u001b[39;49m\u001b[38;5;124;43m'\u001b[39;49m\u001b[43m)\u001b[49m\n",
      "File \u001b[0;32m/Library/Frameworks/Python.framework/Versions/3.11/lib/python3.11/site-packages/pyspark/sql/readwriter.py:1864\u001b[0m, in \u001b[0;36mDataFrameWriter.csv\u001b[0;34m(self, path, mode, compression, sep, quote, escape, header, nullValue, escapeQuotes, quoteAll, dateFormat, timestampFormat, ignoreLeadingWhiteSpace, ignoreTrailingWhiteSpace, charToEscapeQuoteEscaping, encoding, emptyValue, lineSep)\u001b[0m\n\u001b[1;32m   1845\u001b[0m \u001b[38;5;28mself\u001b[39m\u001b[38;5;241m.\u001b[39mmode(mode)\n\u001b[1;32m   1846\u001b[0m \u001b[38;5;28mself\u001b[39m\u001b[38;5;241m.\u001b[39m_set_opts(\n\u001b[1;32m   1847\u001b[0m     compression\u001b[38;5;241m=\u001b[39mcompression,\n\u001b[1;32m   1848\u001b[0m     sep\u001b[38;5;241m=\u001b[39msep,\n\u001b[0;32m   (...)\u001b[0m\n\u001b[1;32m   1862\u001b[0m     lineSep\u001b[38;5;241m=\u001b[39mlineSep,\n\u001b[1;32m   1863\u001b[0m )\n\u001b[0;32m-> 1864\u001b[0m \u001b[38;5;28;43mself\u001b[39;49m\u001b[38;5;241;43m.\u001b[39;49m\u001b[43m_jwrite\u001b[49m\u001b[38;5;241;43m.\u001b[39;49m\u001b[43mcsv\u001b[49m\u001b[43m(\u001b[49m\u001b[43mpath\u001b[49m\u001b[43m)\u001b[49m\n",
      "File \u001b[0;32m/Library/Frameworks/Python.framework/Versions/3.11/lib/python3.11/site-packages/py4j/java_gateway.py:1322\u001b[0m, in \u001b[0;36mJavaMember.__call__\u001b[0;34m(self, *args)\u001b[0m\n\u001b[1;32m   1316\u001b[0m command \u001b[38;5;241m=\u001b[39m proto\u001b[38;5;241m.\u001b[39mCALL_COMMAND_NAME \u001b[38;5;241m+\u001b[39m\\\n\u001b[1;32m   1317\u001b[0m     \u001b[38;5;28mself\u001b[39m\u001b[38;5;241m.\u001b[39mcommand_header \u001b[38;5;241m+\u001b[39m\\\n\u001b[1;32m   1318\u001b[0m     args_command \u001b[38;5;241m+\u001b[39m\\\n\u001b[1;32m   1319\u001b[0m     proto\u001b[38;5;241m.\u001b[39mEND_COMMAND_PART\n\u001b[1;32m   1321\u001b[0m answer \u001b[38;5;241m=\u001b[39m \u001b[38;5;28mself\u001b[39m\u001b[38;5;241m.\u001b[39mgateway_client\u001b[38;5;241m.\u001b[39msend_command(command)\n\u001b[0;32m-> 1322\u001b[0m return_value \u001b[38;5;241m=\u001b[39m \u001b[43mget_return_value\u001b[49m\u001b[43m(\u001b[49m\n\u001b[1;32m   1323\u001b[0m \u001b[43m    \u001b[49m\u001b[43manswer\u001b[49m\u001b[43m,\u001b[49m\u001b[43m \u001b[49m\u001b[38;5;28;43mself\u001b[39;49m\u001b[38;5;241;43m.\u001b[39;49m\u001b[43mgateway_client\u001b[49m\u001b[43m,\u001b[49m\u001b[43m \u001b[49m\u001b[38;5;28;43mself\u001b[39;49m\u001b[38;5;241;43m.\u001b[39;49m\u001b[43mtarget_id\u001b[49m\u001b[43m,\u001b[49m\u001b[43m \u001b[49m\u001b[38;5;28;43mself\u001b[39;49m\u001b[38;5;241;43m.\u001b[39;49m\u001b[43mname\u001b[49m\u001b[43m)\u001b[49m\n\u001b[1;32m   1325\u001b[0m \u001b[38;5;28;01mfor\u001b[39;00m temp_arg \u001b[38;5;129;01min\u001b[39;00m temp_args:\n\u001b[1;32m   1326\u001b[0m     \u001b[38;5;28;01mif\u001b[39;00m \u001b[38;5;28mhasattr\u001b[39m(temp_arg, \u001b[38;5;124m\"\u001b[39m\u001b[38;5;124m_detach\u001b[39m\u001b[38;5;124m\"\u001b[39m):\n",
      "File \u001b[0;32m/Library/Frameworks/Python.framework/Versions/3.11/lib/python3.11/site-packages/pyspark/errors/exceptions/captured.py:185\u001b[0m, in \u001b[0;36mcapture_sql_exception.<locals>.deco\u001b[0;34m(*a, **kw)\u001b[0m\n\u001b[1;32m    181\u001b[0m converted \u001b[38;5;241m=\u001b[39m convert_exception(e\u001b[38;5;241m.\u001b[39mjava_exception)\n\u001b[1;32m    182\u001b[0m \u001b[38;5;28;01mif\u001b[39;00m \u001b[38;5;129;01mnot\u001b[39;00m \u001b[38;5;28misinstance\u001b[39m(converted, UnknownException):\n\u001b[1;32m    183\u001b[0m     \u001b[38;5;66;03m# Hide where the exception came from that shows a non-Pythonic\u001b[39;00m\n\u001b[1;32m    184\u001b[0m     \u001b[38;5;66;03m# JVM exception message.\u001b[39;00m\n\u001b[0;32m--> 185\u001b[0m     \u001b[38;5;28;01mraise\u001b[39;00m converted \u001b[38;5;28;01mfrom\u001b[39;00m \u001b[38;5;28;01mNone\u001b[39;00m\n\u001b[1;32m    186\u001b[0m \u001b[38;5;28;01melse\u001b[39;00m:\n\u001b[1;32m    187\u001b[0m     \u001b[38;5;28;01mraise\u001b[39;00m\n",
      "\u001b[0;31mAnalysisException\u001b[0m: [PATH_ALREADY_EXISTS] Path file:/Users/leonardonickholasandrianto/Documents/Kuliah/Semester 6/BIG DATA/Tugas/modified already exists. Set mode as \"overwrite\" to overwrite the existing path."
     ]
    }
   ],
   "source": [
    "# Save the pre-processed data to a CSV file (if necessary, firstly combine data into 1 partition)\n",
    "df.repartition(1).write.option('header', True).option('escape', '\"').csv('modified')\n"
   ]
  },
  {
   "cell_type": "markdown",
   "metadata": {},
   "source": [
    "<div class=\"alert alert-block alert-info\">\n",
    "<details><summary><strong>Tip:</strong></summary>\n",
    "\n",
    "> ```python\n",
    "df = df.repartition(1).write.option('header', True).option('escape', '\"').csv('dataset/train_mod')\n",
    "> ```\n",
    "\n",
    "</details>\n",
    "</div>"
   ]
  },
  {
   "cell_type": "markdown",
   "metadata": {},
   "source": [
    "***\n",
    "### Survival by Gender"
   ]
  },
  {
   "cell_type": "markdown",
   "metadata": {},
   "source": [
    "<div class=\"alert alert-block alert-warning\">\n",
    "<strong>QUESTION</strong>\n",
    "\n",
    "Can you make a hypothesis regarding the passenger's survival by gender?\n",
    "</div>\n",
    "\n",
    "<details><summary><em>Hint:</em></summary>\n",
    "    Female passengers had higher chance than the male ones to survive.\n",
    "</details>"
   ]
  },
  {
   "cell_type": "code",
   "execution_count": 25,
   "metadata": {},
   "outputs": [
    {
     "name": "stdout",
     "output_type": "stream",
     "text": [
      "+------+-----+\n",
      "|   Sex|count|\n",
      "+------+-----+\n",
      "|female|  314|\n",
      "|  male|  577|\n",
      "+------+-----+\n",
      "\n"
     ]
    }
   ],
   "source": [
    "# Count the number of male and female passengers\n",
    "\n",
    "df.select([\"Sex\"]).groupby('Sex').count().show()"
   ]
  },
  {
   "cell_type": "markdown",
   "metadata": {},
   "source": [
    "<div class=\"alert alert-block alert-info\">\n",
    "<details><summary><strong>Tip:</strong></summary>\n",
    "\n",
    "> ```python\n",
    "df.select(['__']).groupby('__').count().show()\n",
    "> ```\n",
    "\n",
    "</details>\n",
    "</div>"
   ]
  },
  {
   "cell_type": "code",
   "execution_count": 26,
   "metadata": {},
   "outputs": [
    {
     "name": "stdout",
     "output_type": "stream",
     "text": [
      "+------+--------+-----+\n",
      "|   Sex|Survived|count|\n",
      "+------+--------+-----+\n",
      "|female|       1|  233|\n",
      "|female|       0|   81|\n",
      "|  male|       0|  468|\n",
      "|  male|       1|  109|\n",
      "+------+--------+-----+\n",
      "\n"
     ]
    }
   ],
   "source": [
    "# Count the number of survived and unsurvived passengers based on gender\n",
    "\n",
    "df.select([\"Sex\", \"Survived\"]).groupby([\"Sex\", \"Survived\"]).count().orderBy(\"Sex\").show()"
   ]
  },
  {
   "cell_type": "markdown",
   "metadata": {},
   "source": [
    "<div class=\"alert alert-block alert-info\">\n",
    "<details><summary><strong>Tip:</strong></summary>\n",
    "\n",
    "> ```python\n",
    "df.select(['__', '__']).groupby(['__', '__']).count().show()\n",
    "> ```\n",
    "\n",
    "</details>\n",
    "</div>"
   ]
  },
  {
   "cell_type": "code",
   "execution_count": null,
   "metadata": {},
   "outputs": [],
   "source": []
  },
  {
   "cell_type": "code",
   "execution_count": 27,
   "metadata": {},
   "outputs": [
    {
     "data": {
      "image/png": "[encoded data removed]",
      "text/plain": [
       "<Figure size 640x480 with 1 Axes>"
      ]
     },
     "metadata": {},
     "output_type": "display_data"
    }
   ],
   "source": [
    "# Using Bar Plot, visualize the survived passengers by gender\n",
    "\n",
    "import seaborn as sns\n",
    "import matplotlib.pyplot as plt\n",
    "import matplotlib.patches as mpatches\n",
    "\n",
    "sns.set_theme(style='whitegrid')\n",
    "sns.set_context(\"paper\", rc={\"font.size\":16,\"axes.titlesize\":20,\"axes.labelsize\":16})\n",
    "palette = sns.color_palette('Paired')\n",
    "\n",
    "total = df.select([\"Sex\"]).groupby(\"Sex\").count().toPandas()\n",
    "bar1 = sns.barplot(x='Sex', y='count', data=total, color=palette[0])\n",
    "bar1.set(ylabel='Count')\n",
    "bar1.tick_params(labelsize=14)\n",
    "survived = df.select(['Sex']).filter(col(\"Survived\")==1).groupby('Sex').count().toPandas()\n",
    "bar2 = sns.barplot(x='Sex', y='count', data=survived, color=palette[1])\n",
    "bar2.set(ylabel='Count')\n",
    "\n",
    "top_bar = mpatches.Patch(color=palette[0], label='Total')\n",
    "bottom_bar = mpatches.Patch(color=palette[1], label='Survived')\n",
    "plt.legend(handles=[top_bar, bottom_bar], fontsize=12)\n",
    "plt.show()"
   ]
  },
  {
   "cell_type": "markdown",
   "metadata": {},
   "source": [
    "<div class=\"alert alert-block alert-info\">\n",
    "<details><summary><strong>Tip:</strong></summary>\n",
    "\n",
    "> ```python\n",
    "total = df.select('__').groupby('__').count().toPandas()\n",
    "survived = df.select('__').filter(__).groupby('__').count().toPandas()\n",
    "> ```\n",
    "\n",
    "</details>\n",
    "</div>"
   ]
  },
  {
   "cell_type": "markdown",
   "metadata": {},
   "source": [
    "***\n",
    "### Survival by Class"
   ]
  },
  {
   "cell_type": "markdown",
   "metadata": {},
   "source": [
    "<div class=\"alert alert-block alert-warning\">\n",
    "<strong>QUESTION</strong>\n",
    "\n",
    "Can you make a hypothesis regarding the passenger's survival by class?\n",
    "</div>\n",
    "\n",
    "<details><summary><em>Hint:</em></summary>\n",
    "    The higher the passenger's class (i.e., class 1 is the highest whereas class 3 is the lowest), the higher the passenger's chance to survive.\n",
    "</details>"
   ]
  },
  {
   "cell_type": "code",
   "execution_count": 28,
   "metadata": {},
   "outputs": [
    {
     "name": "stdout",
     "output_type": "stream",
     "text": [
      "+------+-----+\n",
      "|Pclass|count|\n",
      "+------+-----+\n",
      "|     1|  216|\n",
      "|     2|  184|\n",
      "|     3|  491|\n",
      "+------+-----+\n",
      "\n"
     ]
    }
   ],
   "source": [
    "# Count the number of passengers based on class\n",
    "\n",
    "df.select(['Pclass']).groupby('Pclass').count().orderBy('Pclass').show()"
   ]
  },
  {
   "cell_type": "markdown",
   "metadata": {},
   "source": [
    "<div class=\"alert alert-block alert-info\">\n",
    "<details><summary><strong>Tip:</strong></summary>\n",
    "\n",
    "> ```python\n",
    "df.select(['__']).groupby('__').count().show()\n",
    "> ```\n",
    "\n",
    "</details>\n",
    "</div>"
   ]
  },
  {
   "cell_type": "code",
   "execution_count": 29,
   "metadata": {},
   "outputs": [
    {
     "name": "stdout",
     "output_type": "stream",
     "text": [
      "+------+--------+-----+\n",
      "|Pclass|Survived|count|\n",
      "+------+--------+-----+\n",
      "|     1|       0|   80|\n",
      "|     1|       1|  136|\n",
      "|     2|       0|   97|\n",
      "|     2|       1|   87|\n",
      "|     3|       0|  372|\n",
      "|     3|       1|  119|\n",
      "+------+--------+-----+\n",
      "\n"
     ]
    }
   ],
   "source": [
    "# Count the number of survived and unsurvived passengers based on class\n",
    "\n",
    "df.select(['Pclass','Survived']).groupby(['Pclass', 'Survived']).count().orderBy(['Pclass','Survived']).show()"
   ]
  },
  {
   "cell_type": "markdown",
   "metadata": {},
   "source": [
    "<div class=\"alert alert-block alert-info\">\n",
    "<details><summary><strong>Tip:</strong></summary>\n",
    "\n",
    "> ```python\n",
    "df.select(['__', '__']).groupby(['__', '__']).count().show()\n",
    "> ```\n",
    "\n",
    "</details>\n",
    "</div>"
   ]
  },
  {
   "cell_type": "code",
   "execution_count": 30,
   "metadata": {},
   "outputs": [
    {
     "data": {
      "image/png": "[encoded data removed]",
      "text/plain": [
       "<Figure size 640x480 with 1 Axes>"
      ]
     },
     "metadata": {},
     "output_type": "display_data"
    }
   ],
   "source": [
    "# Using Bar Plot, visualize the survived passengers by class\n",
    "\n",
    "import seaborn as sns\n",
    "import matplotlib.pyplot as plt\n",
    "import matplotlib.patches as mpatches\n",
    "\n",
    "total = df.select(['Pclass']).groupby('Pclass').count().toPandas()\n",
    "bar1 = sns.barplot(x='Pclass', y='count', data=total, color=palette[8])\n",
    "bar1.set(ylabel='Count')\n",
    "bar1.tick_params(labelsize=14)\n",
    "survived = df.select('Pclass').filter(col('Survived')==1).groupby('Pclass').count().toPandas()\n",
    "bar2 = sns.barplot(x='Pclass', y='count', data=survived, color=palette[9])\n",
    "bar2.set(ylabel='Count')\n",
    "\n",
    "top_bar = mpatches.Patch(color=palette[8], label='Total')\n",
    "bottom_bar = mpatches.Patch(color=palette[9], label='Survived')\n",
    "plt.legend(handles=[top_bar, bottom_bar], fontsize=12)\n",
    "plt.show()"
   ]
  },
  {
   "cell_type": "markdown",
   "metadata": {},
   "source": [
    "<div class=\"alert alert-block alert-info\">\n",
    "<details><summary><strong>Tip:</strong></summary>\n",
    "\n",
    "> ```python\n",
    "total = df.select('__').groupby('__').count().toPandas()\n",
    "survived = df.select('__').filter(__).groupby('__').count().toPandas()\n",
    "> ```\n",
    "\n",
    "</details>\n",
    "</div>"
   ]
  },
  {
   "cell_type": "markdown",
   "metadata": {},
   "source": [
    "***\n",
    "### Survival by Age"
   ]
  },
  {
   "cell_type": "markdown",
   "metadata": {},
   "source": [
    "<div class=\"alert alert-block alert-warning\">\n",
    "<strong>QUESTION</strong>\n",
    "\n",
    "Can you make a hypothesis regarding the passenger's survival by age?\n",
    "</div>\n",
    "\n",
    "<details><summary><em>Hint:</em></summary>\n",
    "    The youngsters and the elders had higher chance to survive.\n",
    "</details>"
   ]
  },
  {
   "cell_type": "code",
   "execution_count": 31,
   "metadata": {},
   "outputs": [
    {
     "name": "stdout",
     "output_type": "stream",
     "text": [
      "+-----+-----+\n",
      "| Age |count|\n",
      "+-----+-----+\n",
      "| 0- 5|   44|\n",
      "| 5-10|   22|\n",
      "|10-15|   16|\n",
      "|15-20|   86|\n",
      "|20-25|  150|\n",
      "|25-30|  106|\n",
      "|30-35|  214|\n",
      "|35-40|   89|\n",
      "|40-45|   49|\n",
      "|45-50|   41|\n",
      "|50-55|   32|\n",
      "|55-60|   16|\n",
      "|60-65|   15|\n",
      "|65-70|    4|\n",
      "|70-75|    6|\n",
      "|75-80|    1|\n",
      "+-----+-----+\n"
     ]
    }
   ],
   "source": [
    "# Get the distribution (histogram) of passengers by age\n",
    "\n",
    "age_hist = df.select(\"Age\").rdd.flatMap(lambda x:x).histogram([0,5,10,15,20,25,30,35,40,45,50,55,60,65,70,75,80])\n",
    "\n",
    "print(\"+-----+-----+\")\n",
    "print(\"| Age |count|\")\n",
    "print(\"+-----+-----+\")\n",
    "for i in range(len(age_hist[1])):\n",
    "    print(\"|%2d-%2d|%5d|\" % (age_hist[0][i], age_hist[0][i+1], age_hist[1][i]))\n",
    "print(\"+-----+-----+\")"
   ]
  },
  {
   "cell_type": "markdown",
   "metadata": {},
   "source": [
    "<div class=\"alert alert-block alert-info\">\n",
    "<details><summary><strong>Tip:</strong></summary>\n",
    "\n",
    "> ```python\n",
    "age_hist = df.select('__').rdd.flatMap(lambda x: x).histogram(__)\n",
    "> ```\n",
    "\n",
    "</details>\n",
    "</div>"
   ]
  },
  {
   "cell_type": "code",
   "execution_count": 32,
   "metadata": {},
   "outputs": [
    {
     "name": "stdout",
     "output_type": "stream",
     "text": [
      "+-----+--------+--------+\n",
      "| Age |count(0)|count(1)|\n",
      "+-----+--------+--------+\n",
      "| 0- 5|      15|      29|\n",
      "| 5-10|      11|      11|\n",
      "|10-15|       9|       7|\n",
      "|15-20|      52|      34|\n",
      "|20-25|      89|      61|\n",
      "|25-30|      68|      38|\n",
      "|30-35|     160|      54|\n",
      "|35-40|      42|      47|\n",
      "|40-45|      31|      18|\n",
      "|45-50|      25|      16|\n",
      "|50-55|      18|      14|\n",
      "|55-60|      10|       6|\n",
      "|60-65|       9|       6|\n",
      "|65-70|       4|       0|\n",
      "|70-75|       6|       0|\n",
      "|75-80|       0|       1|\n",
      "+-----+--------+--------+\n"
     ]
    }
   ],
   "source": [
    "# Get the distribution (histogram) of survived and unsurvived passengers by age\n",
    "\n",
    "age_hist0 = df.select(\"Age\").filter(col(\"Survived\")==0).rdd.flatMap(lambda x: x).histogram([0,5,10,15,20,25,30,35,40,45,50,55,60,65,70,75,80])\n",
    "age_hist1 = df.select(\"Age\").filter(col(\"Survived\")==1).rdd.flatMap(lambda x: x).histogram([0,5,10,15,20,25,30,35,40,45,50,55,60,65,70,75,80])\n",
    "\n",
    "print(\"+-----+--------+--------+\")\n",
    "print(\"| Age |count(0)|count(1)|\")\n",
    "print(\"+-----+--------+--------+\")\n",
    "for i in range(len(age_hist0[1])):\n",
    "    print(\"|%2d-%2d|%8d|%8d|\" % (age_hist0[0][i], age_hist0[0][i+1], age_hist0[1][i], age_hist1[1][i]))\n",
    "print(\"+-----+--------+--------+\")"
   ]
  },
  {
   "cell_type": "markdown",
   "metadata": {},
   "source": [
    "<div class=\"alert alert-block alert-info\">\n",
    "<details><summary><strong>Tip:</strong></summary>\n",
    "\n",
    "> ```python\n",
    "age_hist = df.select('__').filter(__).rdd.flatMap(lambda x: x).histogram(__)\n",
    "> ```\n",
    "\n",
    "</details>\n",
    "</div>"
   ]
  },
  {
   "cell_type": "code",
   "execution_count": 33,
   "metadata": {},
   "outputs": [
    {
     "data": {
      "image/png": "[encoded data removed]",
      "text/plain": [
       "<Figure size 800x600 with 1 Axes>"
      ]
     },
     "metadata": {},
     "output_type": "display_data"
    }
   ],
   "source": [
    "# Visualize the distribution (histogram) of survived passengers by age\n",
    "\n",
    "import seaborn as sns\n",
    "import matplotlib.pyplot as plt\n",
    "\n",
    "plt.figure(figsize=(8,6))\n",
    "hist = sns.histplot(data=df.toPandas(), x='Age', binwidth=5, binrange=(0,80), hue=\"Survived\", multiple=\"stack\")\n",
    "hist.tick_params(labelsize=14)\n",
    "hist.xaxis.grid(False)\n",
    "plt.setp(hist.get_legend().get_texts(), fontsize=12) # for legend text\n",
    "plt.setp(hist.get_legend().get_title(), fontsize=12) # for legend title\n",
    "plt.show()"
   ]
  },
  {
   "cell_type": "markdown",
   "metadata": {},
   "source": [
    "<div class=\"alert alert-block alert-info\">\n",
    "<details><summary><strong>Tip:</strong></summary>\n",
    "\n",
    "> ```python\n",
    "hist = sns.histplot(data=df.toPandas(), x='__', binwidth=5, binrange=(0,80), hue='__', multiple='stack')\n",
    "> ```\n",
    "\n",
    "</details>\n",
    "</div>"
   ]
  },
  {
   "cell_type": "markdown",
   "metadata": {},
   "source": [
    "***\n",
    "### Correlation Matrix"
   ]
  },
  {
   "cell_type": "code",
   "execution_count": 34,
   "metadata": {},
   "outputs": [
    {
     "name": "stdout",
     "output_type": "stream",
     "text": [
      "+------+-----------+--------+------+--------------------+---+------------------+-----+-----+----------------+----+-----+--------+\n",
      "|pTitle|PassengerId|Survived|Pclass|                Name|Sex|               Age|SibSp|Parch|          Ticket|Fare|Cabin|Embarked|\n",
      "+------+-----------+--------+------+--------------------+---+------------------+-----+-----+----------------+----+-----+--------+\n",
      "|    Mr|          1|       0|     3|Braund, Mr. Owen ...|  1|              22.0|    1|    0|       A/5 21171|   7| NULL|       0|\n",
      "|   Mrs|          2|       1|     1|Cumings, Mrs. Joh...|  0|              38.0|    1|    0|        PC 17599|  71|  C85|       1|\n",
      "|  Miss|          3|       1|     3|Heikkinen, Miss. ...|  0|              26.0|    0|    0|STON/O2. 3101282|   7| NULL|       0|\n",
      "|   Mrs|          4|       1|     1|Futrelle, Mrs. Ja...|  0|              35.0|    1|    0|          113803|  53| C123|       0|\n",
      "|    Mr|          5|       0|     3|Allen, Mr. Willia...|  1|              35.0|    0|    0|          373450|   8| NULL|       0|\n",
      "|    Mr|          6|       0|     3|    Moran, Mr. James|  1|32.368090452261306|    0|    0|          330877|   8| NULL|       2|\n",
      "|    Mr|          7|       0|     1|McCarthy, Mr. Tim...|  1|              54.0|    0|    0|           17463|  51|  E46|       0|\n",
      "|Master|          8|       0|     3|Palsson, Master. ...|  1|               2.0|    3|    1|          349909|  21| NULL|       0|\n",
      "|   Mrs|          9|       1|     3|Johnson, Mrs. Osc...|  0|              27.0|    0|    2|          347742|  11| NULL|       0|\n",
      "|   Mrs|         10|       1|     2|Nasser, Mrs. Nich...|  0|              14.0|    1|    0|          237736|  30| NULL|       1|\n",
      "|  Miss|         11|       1|     3|Sandstrom, Miss. ...|  0|               4.0|    1|    1|         PP 9549|  16|   G6|       0|\n",
      "|  Miss|         12|       1|     1|Bonnell, Miss. El...|  0|              58.0|    0|    0|          113783|  26| C103|       0|\n",
      "|    Mr|         13|       0|     3|Saundercock, Mr. ...|  1|              20.0|    0|    0|       A/5. 2151|   8| NULL|       0|\n",
      "|    Mr|         14|       0|     3|Andersson, Mr. An...|  1|              39.0|    1|    5|          347082|  31| NULL|       0|\n",
      "|  Miss|         15|       0|     3|Vestrom, Miss. Hu...|  0|              14.0|    0|    0|          350406|   7| NULL|       0|\n",
      "|   Mrs|         16|       1|     2|Hewlett, Mrs. (Ma...|  0|              55.0|    0|    0|          248706|  16| NULL|       0|\n",
      "|Master|         17|       0|     3|Rice, Master. Eugene|  1|               2.0|    4|    1|          382652|  29| NULL|       2|\n",
      "|    Mr|         18|       1|     2|Williams, Mr. Cha...|  1|32.368090452261306|    0|    0|          244373|  13| NULL|       0|\n",
      "|   Mrs|         19|       0|     3|Vander Planke, Mr...|  0|              31.0|    1|    0|          345763|  18| NULL|       0|\n",
      "|   Mrs|         20|       1|     3|Masselmani, Mrs. ...|  0|35.898148148148145|    0|    0|            2649|   7| NULL|       1|\n",
      "+------+-----------+--------+------+--------------------+---+------------------+-----+-----+----------------+----+-----+--------+\n",
      "only showing top 20 rows\n",
      "\n"
     ]
    }
   ],
   "source": [
    "# Convert 'Sex' and 'Embarked' to numeric\n",
    "\n",
    "df_corr = df.withColumn('Sex', when(col('Sex')==\"male\",1).when(col('Sex')==\"female\",0)).withColumn('Embarked', when(col('Embarked')==\"S\",0).when(col('Embarked')==\"C\",1).when(col('Embarked')==\"Q\",2))\n",
    "df_corr.show()"
   ]
  },
  {
   "cell_type": "markdown",
   "metadata": {},
   "source": [
    "<div class=\"alert alert-block alert-info\">\n",
    "<details><summary><strong>Tip:</strong></summary>\n",
    "\n",
    "> ```python\n",
    "df_corr = df.withColumn('__', when(__, 0).when(__, 1)...)\n",
    "> ```\n",
    "\n",
    "</details>\n",
    "</div>"
   ]
  },
  {
   "cell_type": "code",
   "execution_count": 35,
   "metadata": {},
   "outputs": [
    {
     "data": {
      "image/png": "[encoded data removed]",
      "text/plain": [
       "<Figure size 800x600 with 2 Axes>"
      ]
     },
     "metadata": {},
     "output_type": "display_data"
    }
   ],
   "source": [
    "# Generate the correlation matrix\n",
    "\n",
    "plt.figure(figsize=(8,6))\n",
    "sns.set(font_scale=1.4)\n",
    "heat = sns.heatmap(data=df_corr.select(['Survived','Pclass', 'Sex', 'Age', 'SibSp', 'Parch', 'Fare', 'Embarked']).toPandas().corr(), cmap='vlag', vmin=-1, vmax=1)"
   ]
  },
  {
   "cell_type": "markdown",
   "metadata": {},
   "source": [
    "<div class=\"alert alert-block alert-info\">\n",
    "<details><summary><strong>Tip:</strong></summary>\n",
    "\n",
    "> ```python\n",
    "heat = sns.heatmap(data=df_corr.select(['__', '__', ...]).toPandas().corr(), cmap='vlag', vmin=-1, vmax=1)\n",
    "> ```\n",
    "\n",
    "</details>\n",
    "</div>"
   ]
  },
  {
   "cell_type": "markdown",
   "metadata": {},
   "source": [
    "***\n",
    "##### Stopping SparkContext"
   ]
  },
  {
   "cell_type": "code",
   "execution_count": 42,
   "metadata": {},
   "outputs": [],
   "source": [
    "spark.stop()"
   ]
  },
  {
   "cell_type": "markdown",
   "metadata": {},
   "source": [
    "<div class=\"alert alert-block alert-info\">\n",
    "<details><summary><strong>Tip:</strong></summary>\n",
    "\n",
    "> ```python\n",
    "spark.stop()\n",
    "> ```\n",
    "\n",
    "</details>\n",
    "</div>"
   ]
  },
  {
   "cell_type": "markdown",
   "metadata": {
    "jp-MarkdownHeadingCollapsed": true
   },
   "source": [
    "## CARA DI KELAS"
   ]
  },
  {
   "cell_type": "code",
   "execution_count": 2,
   "metadata": {},
   "outputs": [
    {
     "name": "stdout",
     "output_type": "stream",
     "text": [
      "+-----------+--------+------+-------------------------------------------------+------+------------------+-----+-----+----------------+-------+-------+--------+\n",
      "|PassengerId|Survived|Pclass|                                             Name|   Sex|               Age|SibSp|Parch|          Ticket|   Fare|  Cabin|Embarked|\n",
      "+-----------+--------+------+-------------------------------------------------+------+------------------+-----+-----+----------------+-------+-------+--------+\n",
      "|        734|       0|     2|                       Berriman, Mr. William John|  male|              23.0|    0|    0|           28425|   13.0|   NULL|       S|\n",
      "|        877|       0|     3|                    Gustafsson, Mr. Alfred Ossian|  male|              20.0|    0|    0|            7534| 9.8458|   NULL|       S|\n",
      "|        736|       0|     3|                             Williams, Mr. Leslie|  male|              28.5|    0|    0|           54636|   16.1|   NULL|       S|\n",
      "|        488|       0|     1|                          Kent, Mr. Edward Austin|  male|              58.0|    0|    0|           11771|   29.7|    B37|       C|\n",
      "|        351|       0|     3|                           Odahl, Mr. Nils Martin|  male|              23.0|    0|    0|            7267|  9.225|   NULL|       S|\n",
      "|        366|       0|     3|                   Adahl, Mr. Mauritz Nils Martin|  male|              30.0|    0|    0|          C 7076|   7.25|   NULL|       S|\n",
      "|        147|       1|     3| \"Andersson, Mr. August Edvard (\"\"Wennerstrom\"\")\"|  male|              27.0|    0|    0|          350043| 7.7958|   NULL|       S|\n",
      "|        856|       1|     3|                       Aks, Mrs. Sam (Leah Rosen)|female|              18.0|    0|    1|          392091|   9.35|   NULL|       S|\n",
      "|        558|       0|     1|                              Robbins, Mr. Victor|  male|32.368090452261306|    0|    0|        PC 17757|227.525|   NULL|       C|\n",
      "|        281|       0|     3|                                 Duane, Mr. Frank|  male|              65.0|    0|    0|          336439|   7.75|   NULL|       Q|\n",
      "|        644|       1|     3|                                  Foo, Mr. Choong|  male|32.368090452261306|    0|    0|            1601|56.4958|   NULL|       S|\n",
      "|        767|       0|     1|                        Brewe, Dr. Arthur Jackson|  male|              42.0|    0|    0|          112379|   39.6|   NULL|       C|\n",
      "|        765|       0|     3|                           Eklund, Mr. Hans Linus|  male|              16.0|    0|    0|          347074|  7.775|   NULL|       S|\n",
      "|        811|       0|     3|                           Alexander, Mr. William|  male|              26.0|    0|    0|            3474| 7.8875|   NULL|       S|\n",
      "|        867|       1|     2|                     Duran y More, Miss. Asuncion|female|              27.0|    1|    0|   SC/PARIS 2149|13.8583|   NULL|       C|\n",
      "|        712|       0|     1|                               Klaber, Mr. Herman|  male|32.368090452261306|    0|    0|          113028|  26.55|   C124|       S|\n",
      "|        538|       1|     1|                              LeRoy, Miss. Bertha|female|              30.0|    0|    0|        PC 17761|106.425|   NULL|       C|\n",
      "|        755|       1|     2|                 Herman, Mrs. Samuel (Jane Laver)|female|              48.0|    1|    2|          220845|   65.0|   NULL|       S|\n",
      "|         60|       0|     3|               Goodwin, Master. William Frederick|  male|              11.0|    5|    2|         CA 2144|   46.9|   NULL|       S|\n",
      "|        408|       1|     2|                   Richards, Master. William Rowe|  male|               3.0|    1|    1|           29106|  18.75|   NULL|       S|\n",
      "|        284|       1|     3|                       Dorking, Mr. Edward Arthur|  male|              19.0|    0|    0|      A/5. 10482|   8.05|   NULL|       S|\n",
      "|        450|       1|     1|                   Peuchen, Major. Arthur Godfrey|  male|              52.0|    0|    0|          113786|   30.5|   C104|       S|\n",
      "|        701|       1|     1|Astor, Mrs. John Jacob (Madeleine Talmadge Force)|female|              18.0|    1|    0|        PC 17757|227.525|C62 C64|       C|\n",
      "|        812|       0|     3|                                Lester, Mr. James|  male|              39.0|    0|    0|       A/4 48871|  24.15|   NULL|       S|\n",
      "|        380|       0|     3|                      Gustafsson, Mr. Karl Gideon|  male|              19.0|    0|    0|          347069|  7.775|   NULL|       S|\n",
      "|        588|       1|     1|                 Frolicher-Stehli, Mr. Maxmillian|  male|              60.0|    1|    1|           13567|   79.2|    B41|       C|\n",
      "|        480|       1|     3|                         Hirvonen, Miss. Hildur E|female|               2.0|    0|    1|         3101298|12.2875|   NULL|       S|\n",
      "|        817|       0|     3|                     Heininen, Miss. Wendla Maria|female|              23.0|    0|    0|STON/O2. 3101290|  7.925|   NULL|       S|\n",
      "|        195|       1|     1|        Brown, Mrs. James Joseph (Margaret Tobin)|female|              44.0|    0|    0|        PC 17610|27.7208|     B4|       C|\n",
      "|          6|       0|     3|                                 Moran, Mr. James|  male|32.368090452261306|    0|    0|          330877| 8.4583|   NULL|       Q|\n",
      "+-----------+--------+------+-------------------------------------------------+------+------------------+-----+-----+----------------+-------+-------+--------+\n",
      "only showing top 30 rows\n",
      "\n"
     ]
    }
   ],
   "source": [
    "# Read the CSV file containing Titanic dataset into Spark's DataFrame and show it\n",
    "\n",
    "df = spark.read.format('csv').options(header=True).load('train_mod.csv').repartition(4)\n",
    "df.show(30, truncate=50)"
   ]
  },
  {
   "cell_type": "code",
   "execution_count": 3,
   "metadata": {},
   "outputs": [
    {
     "name": "stdout",
     "output_type": "stream",
     "text": [
      "root\n",
      " |-- PassengerId: string (nullable = true)\n",
      " |-- Survived: string (nullable = true)\n",
      " |-- Pclass: string (nullable = true)\n",
      " |-- Name: string (nullable = true)\n",
      " |-- Sex: string (nullable = true)\n",
      " |-- Age: string (nullable = true)\n",
      " |-- SibSp: string (nullable = true)\n",
      " |-- Parch: string (nullable = true)\n",
      " |-- Ticket: string (nullable = true)\n",
      " |-- Fare: string (nullable = true)\n",
      " |-- Cabin: string (nullable = true)\n",
      " |-- Embarked: string (nullable = true)\n",
      "\n"
     ]
    }
   ],
   "source": [
    "df.printSchema()"
   ]
  },
  {
   "cell_type": "code",
   "execution_count": 4,
   "metadata": {},
   "outputs": [],
   "source": [
    "from pyspark.sql.functions import *"
   ]
  },
  {
   "cell_type": "code",
   "execution_count": 5,
   "metadata": {},
   "outputs": [],
   "source": [
    "# Define a UDF function to remove quotes from the passenger's name\n",
    "\n",
    "def remove_quotes(name):\n",
    "    return name.replace('\\\"\\\"', '*').strip('\"').replace('*','\"')\n",
    "\n",
    "remove_quotes_udf = udf(lambda x: remove_quotes(x))"
   ]
  },
  {
   "cell_type": "code",
   "execution_count": 6,
   "metadata": {},
   "outputs": [
    {
     "name": "stdout",
     "output_type": "stream",
     "text": [
      "+-----------+--------+------+-------------------------------------------------+------+------------------+-----+-----+----------------+-------+-------+--------+\n",
      "|PassengerId|Survived|Pclass|                                             Name|   Sex|               Age|SibSp|Parch|          Ticket|   Fare|  Cabin|Embarked|\n",
      "+-----------+--------+------+-------------------------------------------------+------+------------------+-----+-----+----------------+-------+-------+--------+\n",
      "|        734|       0|     2|                       Berriman, Mr. William John|  male|              23.0|    0|    0|           28425|   13.0|   NULL|       S|\n",
      "|        877|       0|     3|                    Gustafsson, Mr. Alfred Ossian|  male|              20.0|    0|    0|            7534| 9.8458|   NULL|       S|\n",
      "|        736|       0|     3|                             Williams, Mr. Leslie|  male|              28.5|    0|    0|           54636|   16.1|   NULL|       S|\n",
      "|        488|       0|     1|                          Kent, Mr. Edward Austin|  male|              58.0|    0|    0|           11771|   29.7|    B37|       C|\n",
      "|        351|       0|     3|                           Odahl, Mr. Nils Martin|  male|              23.0|    0|    0|            7267|  9.225|   NULL|       S|\n",
      "|        366|       0|     3|                   Adahl, Mr. Mauritz Nils Martin|  male|              30.0|    0|    0|          C 7076|   7.25|   NULL|       S|\n",
      "|        147|       1|     3|     Andersson, Mr. August Edvard (\"Wennerstrom\")|  male|              27.0|    0|    0|          350043| 7.7958|   NULL|       S|\n",
      "|        856|       1|     3|                       Aks, Mrs. Sam (Leah Rosen)|female|              18.0|    0|    1|          392091|   9.35|   NULL|       S|\n",
      "|        558|       0|     1|                              Robbins, Mr. Victor|  male|32.368090452261306|    0|    0|        PC 17757|227.525|   NULL|       C|\n",
      "|        281|       0|     3|                                 Duane, Mr. Frank|  male|              65.0|    0|    0|          336439|   7.75|   NULL|       Q|\n",
      "|        644|       1|     3|                                  Foo, Mr. Choong|  male|32.368090452261306|    0|    0|            1601|56.4958|   NULL|       S|\n",
      "|        767|       0|     1|                        Brewe, Dr. Arthur Jackson|  male|              42.0|    0|    0|          112379|   39.6|   NULL|       C|\n",
      "|        765|       0|     3|                           Eklund, Mr. Hans Linus|  male|              16.0|    0|    0|          347074|  7.775|   NULL|       S|\n",
      "|        811|       0|     3|                           Alexander, Mr. William|  male|              26.0|    0|    0|            3474| 7.8875|   NULL|       S|\n",
      "|        867|       1|     2|                     Duran y More, Miss. Asuncion|female|              27.0|    1|    0|   SC/PARIS 2149|13.8583|   NULL|       C|\n",
      "|        712|       0|     1|                               Klaber, Mr. Herman|  male|32.368090452261306|    0|    0|          113028|  26.55|   C124|       S|\n",
      "|        538|       1|     1|                              LeRoy, Miss. Bertha|female|              30.0|    0|    0|        PC 17761|106.425|   NULL|       C|\n",
      "|        755|       1|     2|                 Herman, Mrs. Samuel (Jane Laver)|female|              48.0|    1|    2|          220845|   65.0|   NULL|       S|\n",
      "|         60|       0|     3|               Goodwin, Master. William Frederick|  male|              11.0|    5|    2|         CA 2144|   46.9|   NULL|       S|\n",
      "|        408|       1|     2|                   Richards, Master. William Rowe|  male|               3.0|    1|    1|           29106|  18.75|   NULL|       S|\n",
      "|        284|       1|     3|                       Dorking, Mr. Edward Arthur|  male|              19.0|    0|    0|      A/5. 10482|   8.05|   NULL|       S|\n",
      "|        450|       1|     1|                   Peuchen, Major. Arthur Godfrey|  male|              52.0|    0|    0|          113786|   30.5|   C104|       S|\n",
      "|        701|       1|     1|Astor, Mrs. John Jacob (Madeleine Talmadge Force)|female|              18.0|    1|    0|        PC 17757|227.525|C62 C64|       C|\n",
      "|        812|       0|     3|                                Lester, Mr. James|  male|              39.0|    0|    0|       A/4 48871|  24.15|   NULL|       S|\n",
      "|        380|       0|     3|                      Gustafsson, Mr. Karl Gideon|  male|              19.0|    0|    0|          347069|  7.775|   NULL|       S|\n",
      "|        588|       1|     1|                 Frolicher-Stehli, Mr. Maxmillian|  male|              60.0|    1|    1|           13567|   79.2|    B41|       C|\n",
      "|        480|       1|     3|                         Hirvonen, Miss. Hildur E|female|               2.0|    0|    1|         3101298|12.2875|   NULL|       S|\n",
      "|        817|       0|     3|                     Heininen, Miss. Wendla Maria|female|              23.0|    0|    0|STON/O2. 3101290|  7.925|   NULL|       S|\n",
      "|        195|       1|     1|        Brown, Mrs. James Joseph (Margaret Tobin)|female|              44.0|    0|    0|        PC 17610|27.7208|     B4|       C|\n",
      "|          6|       0|     3|                                 Moran, Mr. James|  male|32.368090452261306|    0|    0|          330877| 8.4583|   NULL|       Q|\n",
      "+-----------+--------+------+-------------------------------------------------+------+------------------+-----+-----+----------------+-------+-------+--------+\n",
      "only showing top 30 rows\n",
      "\n"
     ]
    }
   ],
   "source": [
    "df = df.withColumn('Name', remove_quotes_udf('Name'))\n",
    "df.show(30, truncate=50)"
   ]
  },
  {
   "cell_type": "code",
   "execution_count": 30,
   "metadata": {},
   "outputs": [
    {
     "name": "stdout",
     "output_type": "stream",
     "text": [
      "+-------+--------+\n",
      "|summary|Embarked|\n",
      "+-------+--------+\n",
      "|  count|     891|\n",
      "|   mean|    NULL|\n",
      "| stddev|    NULL|\n",
      "|    min|       C|\n",
      "|    25%|    NULL|\n",
      "|    50%|    NULL|\n",
      "|    75%|    NULL|\n",
      "|    max|       S|\n",
      "+-------+--------+\n",
      "\n"
     ]
    }
   ],
   "source": [
    "df.select('Embarked').summary().show()"
   ]
  },
  {
   "cell_type": "code",
   "execution_count": 7,
   "metadata": {},
   "outputs": [],
   "source": [
    "final_df = df.select(['Survived', 'Pclass', 'Sex', 'Age'])"
   ]
  },
  {
   "cell_type": "code",
   "execution_count": 26,
   "metadata": {},
   "outputs": [],
   "source": [
    "from pyspark.sql.types import *\n",
    "from pyspark.ml.feature import StringIndexer\n",
    "from pyspark.ml.feature import VectorAssembler\n",
    "from pyspark.ml import Pipeline"
   ]
  },
  {
   "cell_type": "code",
   "execution_count": 9,
   "metadata": {},
   "outputs": [
    {
     "name": "stdout",
     "output_type": "stream",
     "text": [
      "+--------+------+------+----+----------+-------+\n",
      "|Survived|Pclass|   Sex| Age|Pclass_idx|Sex_idx|\n",
      "+--------+------+------+----+----------+-------+\n",
      "|       1|     3|female|36.0|       0.0|    1.0|\n",
      "|       1|     1|female|35.0|       1.0|    1.0|\n",
      "|       0|     2|  male|16.0|       2.0|    0.0|\n",
      "|       0|     1|  male|37.0|       1.0|    0.0|\n",
      "|       0|     3|  male|29.0|       0.0|    0.0|\n",
      "|       0|     3|  male|29.0|       0.0|    0.0|\n",
      "|       0|     1|  male|64.0|       1.0|    0.0|\n",
      "|       1|     2|female|28.0|       2.0|    1.0|\n",
      "|       0|     2|  male|39.0|       2.0|    0.0|\n",
      "|       0|     2|  male|24.0|       2.0|    0.0|\n",
      "|       0|     3|  male|39.0|       0.0|    0.0|\n",
      "|       0|     3|female|29.0|       0.0|    1.0|\n",
      "|       1|     2|female|36.0|       2.0|    1.0|\n",
      "|       0|     3|  male|25.0|       0.0|    0.0|\n",
      "|       0|     3|  male|25.0|       0.0|    0.0|\n",
      "|       0|     3|  male|61.0|       0.0|    0.0|\n",
      "|       0|     1|  male|54.0|       1.0|    0.0|\n",
      "|       1|     2|female|24.0|       2.0|    1.0|\n",
      "|       1|     2|female|24.0|       2.0|    1.0|\n",
      "|       1|     1|female|56.0|       1.0|    1.0|\n",
      "+--------+------+------+----+----------+-------+\n",
      "only showing top 20 rows\n",
      "\n"
     ]
    }
   ],
   "source": [
    "# Change categorical values (e.g., 'Pclass', 'Sex', etc.) to numerical values using StringIndexer\n",
    "\n",
    "indexers = [StringIndexer(inputCol=col, outputCol=col+'_idx').fit(final_df) for col in ['Pclass','Sex']]\n",
    "pipeline = Pipeline(stages=indexers)\n",
    "final_df = pipeline.fit(final_df).transform(final_df)\n",
    "final_df.show()"
   ]
  },
  {
   "cell_type": "code",
   "execution_count": 10,
   "metadata": {},
   "outputs": [],
   "source": [
    "final_df = final_df.withColumn('Age', col('Age').cast('double'))"
   ]
  },
  {
   "cell_type": "code",
   "execution_count": 11,
   "metadata": {},
   "outputs": [
    {
     "name": "stdout",
     "output_type": "stream",
     "text": [
      "+--------+------+------+----+----------+-------+---------+\n",
      "|Survived|Pclass|Sex   |Age |Pclass_idx|Sex_idx|features |\n",
      "+--------+------+------+----+----------+-------+---------+\n",
      "|1       |3     |female|36.0|0.0       |1.0    |[0.0,1.0]|\n",
      "|1       |1     |female|35.0|1.0       |1.0    |[1.0,1.0]|\n",
      "|0       |2     |male  |16.0|2.0       |0.0    |[2.0,0.0]|\n",
      "|0       |1     |male  |37.0|1.0       |0.0    |[1.0,0.0]|\n",
      "|0       |3     |male  |29.0|0.0       |0.0    |(2,[],[])|\n",
      "|0       |3     |male  |29.0|0.0       |0.0    |(2,[],[])|\n",
      "|0       |1     |male  |64.0|1.0       |0.0    |[1.0,0.0]|\n",
      "|1       |2     |female|28.0|2.0       |1.0    |[2.0,1.0]|\n",
      "|0       |2     |male  |39.0|2.0       |0.0    |[2.0,0.0]|\n",
      "|0       |2     |male  |24.0|2.0       |0.0    |[2.0,0.0]|\n",
      "|0       |3     |male  |39.0|0.0       |0.0    |(2,[],[])|\n",
      "|0       |3     |female|29.0|0.0       |1.0    |[0.0,1.0]|\n",
      "|1       |2     |female|36.0|2.0       |1.0    |[2.0,1.0]|\n",
      "|0       |3     |male  |25.0|0.0       |0.0    |(2,[],[])|\n",
      "|0       |3     |male  |25.0|0.0       |0.0    |(2,[],[])|\n",
      "|0       |3     |male  |61.0|0.0       |0.0    |(2,[],[])|\n",
      "|0       |1     |male  |54.0|1.0       |0.0    |[1.0,0.0]|\n",
      "|1       |2     |female|24.0|2.0       |1.0    |[2.0,1.0]|\n",
      "|1       |2     |female|24.0|2.0       |1.0    |[2.0,1.0]|\n",
      "|1       |1     |female|56.0|1.0       |1.0    |[1.0,1.0]|\n",
      "+--------+------+------+----+----------+-------+---------+\n",
      "only showing top 20 rows\n",
      "\n"
     ]
    }
   ],
   "source": [
    "assembler = VectorAssembler(inputCols=['Pclass_idx', 'Sex_idx'], outputCol='features')\n",
    "final_df = assembler.transform(final_df)\n",
    "final_df.show(truncate=False)"
   ]
  },
  {
   "cell_type": "code",
   "execution_count": 12,
   "metadata": {},
   "outputs": [
    {
     "name": "stdout",
     "output_type": "stream",
     "text": [
      "+----+---------+--------+\n",
      "|Age |features |Survived|\n",
      "+----+---------+--------+\n",
      "|36.0|[0.0,1.0]|1.0     |\n",
      "|35.0|[1.0,1.0]|1.0     |\n",
      "|16.0|[2.0,0.0]|0.0     |\n",
      "|37.0|[1.0,0.0]|0.0     |\n",
      "|29.0|(2,[],[])|0.0     |\n",
      "|29.0|(2,[],[])|0.0     |\n",
      "|64.0|[1.0,0.0]|0.0     |\n",
      "|28.0|[2.0,1.0]|1.0     |\n",
      "|39.0|[2.0,0.0]|0.0     |\n",
      "|24.0|[2.0,0.0]|0.0     |\n",
      "|39.0|(2,[],[])|0.0     |\n",
      "|29.0|[0.0,1.0]|0.0     |\n",
      "|36.0|[2.0,1.0]|1.0     |\n",
      "|25.0|(2,[],[])|0.0     |\n",
      "|25.0|(2,[],[])|0.0     |\n",
      "|61.0|(2,[],[])|0.0     |\n",
      "|54.0|[1.0,0.0]|0.0     |\n",
      "|24.0|[2.0,1.0]|1.0     |\n",
      "|24.0|[2.0,1.0]|1.0     |\n",
      "|56.0|[1.0,1.0]|1.0     |\n",
      "+----+---------+--------+\n",
      "only showing top 20 rows\n",
      "\n"
     ]
    }
   ],
   "source": [
    "feature_vector_df = final_df.select(['Age','features', 'Survived'])\n",
    "feature_vector_df = feature_vector_df.withColumn('Survived',feature_vector_df['Survived'].cast(DoubleType()))\n",
    "feature_vector_df.show(truncate=False)"
   ]
  },
  {
   "cell_type": "code",
   "execution_count": 40,
   "metadata": {},
   "outputs": [],
   "source": [
    "(trainData, testData) = feature_vector_df.randomSplit([0.8, 0.2], seed=11)"
   ]
  },
  {
   "cell_type": "code",
   "execution_count": 14,
   "metadata": {},
   "outputs": [],
   "source": [
    "from pyspark.ml.classification import RandomForestClassifier, GBTClassifier"
   ]
  },
  {
   "cell_type": "code",
   "execution_count": 15,
   "metadata": {},
   "outputs": [],
   "source": [
    "model1 = RandomForestClassifier(featuresCol='features', labelCol='Survived').fit(trainData)\n",
    "model2 = GBTClassifier(featuresCol='features', labelCol='Survived').fit(trainData)"
   ]
  },
  {
   "cell_type": "code",
   "execution_count": 16,
   "metadata": {
    "scrolled": true
   },
   "outputs": [
    {
     "name": "stdout",
     "output_type": "stream",
     "text": [
      "+----------+--------+---------+\n",
      "|prediction|Survived| features|\n",
      "+----------+--------+---------+\n",
      "|       0.0|     0.0|(2,[],[])|\n",
      "|       0.0|     1.0|[1.0,0.0]|\n",
      "|       1.0|     0.0|[0.0,1.0]|\n",
      "|       0.0|     0.0|(2,[],[])|\n",
      "|       0.0|     0.0|(2,[],[])|\n",
      "|       0.0|     0.0|(2,[],[])|\n",
      "|       0.0|     0.0|(2,[],[])|\n",
      "|       0.0|     0.0|(2,[],[])|\n",
      "|       1.0|     0.0|[0.0,1.0]|\n",
      "|       1.0|     1.0|[0.0,1.0]|\n",
      "|       0.0|     0.0|(2,[],[])|\n",
      "|       0.0|     0.0|[2.0,0.0]|\n",
      "|       0.0|     0.0|(2,[],[])|\n",
      "|       0.0|     0.0|(2,[],[])|\n",
      "|       1.0|     0.0|[0.0,1.0]|\n",
      "|       1.0|     1.0|[1.0,1.0]|\n",
      "|       0.0|     1.0|(2,[],[])|\n",
      "|       1.0|     1.0|[2.0,1.0]|\n",
      "|       0.0|     0.0|(2,[],[])|\n",
      "|       1.0|     1.0|[2.0,1.0]|\n",
      "+----------+--------+---------+\n",
      "only showing top 20 rows\n",
      "\n"
     ]
    }
   ],
   "source": [
    "predictedData1 = model1.transform(testData)\n",
    "predictedData1.select(['prediction', 'Survived', 'features']).show()"
   ]
  },
  {
   "cell_type": "code",
   "execution_count": 17,
   "metadata": {},
   "outputs": [
    {
     "name": "stdout",
     "output_type": "stream",
     "text": [
      "+----------+--------+---------+\n",
      "|prediction|Survived| features|\n",
      "+----------+--------+---------+\n",
      "|       0.0|     0.0|(2,[],[])|\n",
      "|       0.0|     1.0|[1.0,0.0]|\n",
      "|       1.0|     0.0|[0.0,1.0]|\n",
      "|       0.0|     0.0|(2,[],[])|\n",
      "|       0.0|     0.0|(2,[],[])|\n",
      "|       0.0|     0.0|(2,[],[])|\n",
      "|       0.0|     0.0|(2,[],[])|\n",
      "|       0.0|     0.0|(2,[],[])|\n",
      "|       1.0|     0.0|[0.0,1.0]|\n",
      "|       1.0|     1.0|[0.0,1.0]|\n",
      "|       0.0|     0.0|(2,[],[])|\n",
      "|       0.0|     0.0|[2.0,0.0]|\n",
      "|       0.0|     0.0|(2,[],[])|\n",
      "|       0.0|     0.0|(2,[],[])|\n",
      "|       1.0|     0.0|[0.0,1.0]|\n",
      "|       1.0|     1.0|[1.0,1.0]|\n",
      "|       0.0|     1.0|(2,[],[])|\n",
      "|       1.0|     1.0|[2.0,1.0]|\n",
      "|       0.0|     0.0|(2,[],[])|\n",
      "|       1.0|     1.0|[2.0,1.0]|\n",
      "+----------+--------+---------+\n",
      "only showing top 20 rows\n",
      "\n"
     ]
    },
    {
     "name": "stderr",
     "output_type": "stream",
     "text": [
      "24/05/18 00:15:50 WARN InstanceBuilder: Failed to load implementation from:dev.ludovic.netlib.blas.JNIBLAS\n",
      "24/05/18 00:15:50 WARN InstanceBuilder: Failed to load implementation from:dev.ludovic.netlib.blas.VectorBLAS\n"
     ]
    }
   ],
   "source": [
    "predictedData2 = model2.transform(testData)\n",
    "predictedData2.select(['prediction', 'Survived', 'features']).show()"
   ]
  },
  {
   "cell_type": "code",
   "execution_count": 18,
   "metadata": {},
   "outputs": [],
   "source": [
    "from pyspark.ml.evaluation import MulticlassClassificationEvaluator\n",
    "from pyspark.mllib.evaluation import MulticlassMetrics"
   ]
  },
  {
   "cell_type": "code",
   "execution_count": 19,
   "metadata": {},
   "outputs": [],
   "source": [
    "evaluator = MulticlassClassificationEvaluator(predictionCol='prediction', labelCol='Survived', metricName='accuracy')"
   ]
  },
  {
   "cell_type": "code",
   "execution_count": 20,
   "metadata": {},
   "outputs": [
    {
     "name": "stdout",
     "output_type": "stream",
     "text": [
      "Accuracy of RF classifier    = 0.833333\n",
      "Test Error of RF classifier  = 0.166667\n"
     ]
    }
   ],
   "source": [
    "model1_accuracy = evaluator.evaluate(predictedData1)\n",
    "print('Accuracy of RF classifier    = %g' % (model1_accuracy))\n",
    "print('Test Error of RF classifier  = %g' % (1.0 - model1_accuracy))"
   ]
  },
  {
   "cell_type": "code",
   "execution_count": 21,
   "metadata": {},
   "outputs": [
    {
     "name": "stdout",
     "output_type": "stream",
     "text": [
      "Accuracy of GBT classifier   = 0.833333\n",
      "Test Error of GBT classifier = 0.166667\n"
     ]
    }
   ],
   "source": [
    "model2_accuracy = evaluator.evaluate(predictedData2)\n",
    "print('Accuracy of GBT classifier   = %g' % (model2_accuracy))\n",
    "print('Test Error of GBT classifier = %g' % (1.0 - model2_accuracy))"
   ]
  },
  {
   "cell_type": "code",
   "execution_count": 22,
   "metadata": {},
   "outputs": [
    {
     "name": "stderr",
     "output_type": "stream",
     "text": [
      "/Library/Frameworks/Python.framework/Versions/3.11/lib/python3.11/site-packages/pyspark/sql/context.py:158: FutureWarning: Deprecated in 3.0.0. Use SparkSession.builder.getOrCreate() instead.\n",
      "  warnings.warn(\n"
     ]
    },
    {
     "name": "stdout",
     "output_type": "stream",
     "text": [
      "RANDOM FOREST Classifier:\n",
      "Accuracy   = 0.8333333333333334\n",
      "Precision  = 0.8181818181818182\n",
      "Recall     = 0.75\n",
      "F1-Measure = 0.7826086956521738\n"
     ]
    },
    {
     "data": {
      "text/plain": [
       "array([[96., 12.],\n",
       "       [18., 54.]])"
      ]
     },
     "execution_count": 22,
     "metadata": {},
     "output_type": "execute_result"
    }
   ],
   "source": [
    "metrics1 = MulticlassMetrics(predictedData1.select(['prediction', 'Survived']).rdd.map(tuple))\n",
    "print(\"RANDOM FOREST Classifier:\")\n",
    "print(\"Accuracy   = \" + str(metrics1.accuracy))\n",
    "print(\"Precision  = \" + str(metrics1.precision(1.0)))\n",
    "print(\"Recall     = \" + str(metrics1.recall(1.0)))\n",
    "print(\"F1-Measure = \" + str(metrics1.fMeasure(1.0)))\n",
    "metrics1.confusionMatrix().toArray()"
   ]
  },
  {
   "cell_type": "code",
   "execution_count": 23,
   "metadata": {},
   "outputs": [
    {
     "name": "stderr",
     "output_type": "stream",
     "text": [
      "/Library/Frameworks/Python.framework/Versions/3.11/lib/python3.11/site-packages/pyspark/sql/context.py:158: FutureWarning: Deprecated in 3.0.0. Use SparkSession.builder.getOrCreate() instead.\n",
      "  warnings.warn(\n"
     ]
    },
    {
     "name": "stdout",
     "output_type": "stream",
     "text": [
      "GRADIENT-BOOSTED TREE Classifier:\n",
      "Accuracy   = 0.8333333333333334\n",
      "Precision  = 0.8181818181818182\n",
      "Recall     = 0.75\n",
      "F1-Measure = 0.7826086956521738\n"
     ]
    },
    {
     "data": {
      "text/plain": [
       "array([[96., 12.],\n",
       "       [18., 54.]])"
      ]
     },
     "execution_count": 23,
     "metadata": {},
     "output_type": "execute_result"
    }
   ],
   "source": [
    "metrics2 = MulticlassMetrics(predictedData2.select(['prediction', 'Survived']).rdd.map(tuple))\n",
    "print(\"GRADIENT-BOOSTED TREE Classifier:\")\n",
    "print(\"Accuracy   = \" + str(metrics2.accuracy))\n",
    "print(\"Precision  = \" + str(metrics2.precision(1.0)))\n",
    "print(\"Recall     = \" + str(metrics2.recall(1.0)))\n",
    "print(\"F1-Measure = \" + str(metrics2.fMeasure(1.0)))\n",
    "metrics2.confusionMatrix().toArray()"
   ]
  },
  {
   "cell_type": "markdown",
   "metadata": {},
   "source": []
  },
  {
   "cell_type": "markdown",
   "metadata": {},
   "source": [
    "## Tugas Akurasi lebih tinggi"
   ]
  },
  {
   "cell_type": "markdown",
   "metadata": {},
   "source": [
    "### Fokusnya pada feature engineering dan pemilihan seed"
   ]
  },
  {
   "cell_type": "code",
   "execution_count": 4,
   "metadata": {},
   "outputs": [],
   "source": [
    "spark.stop()"
   ]
  },
  {
   "cell_type": "code",
   "execution_count": 1,
   "metadata": {},
   "outputs": [
    {
     "name": "stderr",
     "output_type": "stream",
     "text": [
      "24/05/21 22:59:40 WARN Utils: Your hostname, Leonardos-MacBook-Pro.local resolves to a loopback address: 127.0.0.1; using 192.168.2.106 instead (on interface en0)\n",
      "24/05/21 22:59:40 WARN Utils: Set SPARK_LOCAL_IP if you need to bind to another address\n",
      "Setting default log level to \"WARN\".\n",
      "To adjust logging level use sc.setLogLevel(newLevel). For SparkR, use setLogLevel(newLevel).\n",
      "24/05/21 22:59:40 WARN NativeCodeLoader: Unable to load native-hadoop library for your platform... using builtin-java classes where applicable\n"
     ]
    }
   ],
   "source": [
    "from pyspark import SparkContext, SparkConf\n",
    "from pyspark.sql import SparkSession\n",
    "conf = SparkConf().setAppName('myApp') \\\n",
    ".setMaster('local')\n",
    "sc = SparkContext(conf=conf)\n",
    "spark = SparkSession(sc) "
   ]
  },
  {
   "cell_type": "code",
   "execution_count": 2,
   "metadata": {},
   "outputs": [],
   "source": [
    "from pyspark.sql import functions as F\n",
    "from pyspark.sql.functions import *\n",
    "from pyspark.ml.feature import Normalizer\n",
    "import pandas as pd\n",
    "import seaborn as sns\n",
    "import matplotlib.pyplot as plt\n",
    "from pyspark.ml.feature import StringIndexer\n",
    "from pyspark.ml.feature import VectorAssembler\n",
    "from pyspark.ml.classification import GBTClassifier, RandomForestClassifier\n",
    "from pyspark.ml import Pipeline\n",
    "from pyspark.ml.tuning import CrossValidator, ParamGridBuilder\n",
    "from pyspark.ml.evaluation import MulticlassClassificationEvaluator"
   ]
  },
  {
   "cell_type": "code",
   "execution_count": 3,
   "metadata": {},
   "outputs": [
    {
     "name": "stdout",
     "output_type": "stream",
     "text": [
      "+-----------+--------+------+-------------------------------------------------+------+------------------+-----+-----+----------------+-------+-------+--------+\n",
      "|PassengerId|Survived|Pclass|                                             Name|   Sex|               Age|SibSp|Parch|          Ticket|   Fare|  Cabin|Embarked|\n",
      "+-----------+--------+------+-------------------------------------------------+------+------------------+-----+-----+----------------+-------+-------+--------+\n",
      "|        734|       0|     2|                       Berriman, Mr. William John|  male|              23.0|    0|    0|           28425|   13.0|   NULL|       S|\n",
      "|        877|       0|     3|                    Gustafsson, Mr. Alfred Ossian|  male|              20.0|    0|    0|            7534| 9.8458|   NULL|       S|\n",
      "|        736|       0|     3|                             Williams, Mr. Leslie|  male|              28.5|    0|    0|           54636|   16.1|   NULL|       S|\n",
      "|        488|       0|     1|                          Kent, Mr. Edward Austin|  male|              58.0|    0|    0|           11771|   29.7|    B37|       C|\n",
      "|        351|       0|     3|                           Odahl, Mr. Nils Martin|  male|              23.0|    0|    0|            7267|  9.225|   NULL|       S|\n",
      "|        366|       0|     3|                   Adahl, Mr. Mauritz Nils Martin|  male|              30.0|    0|    0|          C 7076|   7.25|   NULL|       S|\n",
      "|        147|       1|     3| \"Andersson, Mr. August Edvard (\"\"Wennerstrom\"\")\"|  male|              27.0|    0|    0|          350043| 7.7958|   NULL|       S|\n",
      "|        856|       1|     3|                       Aks, Mrs. Sam (Leah Rosen)|female|              18.0|    0|    1|          392091|   9.35|   NULL|       S|\n",
      "|        558|       0|     1|                              Robbins, Mr. Victor|  male|32.368090452261306|    0|    0|        PC 17757|227.525|   NULL|       C|\n",
      "|        281|       0|     3|                                 Duane, Mr. Frank|  male|              65.0|    0|    0|          336439|   7.75|   NULL|       Q|\n",
      "|        644|       1|     3|                                  Foo, Mr. Choong|  male|32.368090452261306|    0|    0|            1601|56.4958|   NULL|       S|\n",
      "|        767|       0|     1|                        Brewe, Dr. Arthur Jackson|  male|              42.0|    0|    0|          112379|   39.6|   NULL|       C|\n",
      "|        765|       0|     3|                           Eklund, Mr. Hans Linus|  male|              16.0|    0|    0|          347074|  7.775|   NULL|       S|\n",
      "|        811|       0|     3|                           Alexander, Mr. William|  male|              26.0|    0|    0|            3474| 7.8875|   NULL|       S|\n",
      "|        867|       1|     2|                     Duran y More, Miss. Asuncion|female|              27.0|    1|    0|   SC/PARIS 2149|13.8583|   NULL|       C|\n",
      "|        712|       0|     1|                               Klaber, Mr. Herman|  male|32.368090452261306|    0|    0|          113028|  26.55|   C124|       S|\n",
      "|        538|       1|     1|                              LeRoy, Miss. Bertha|female|              30.0|    0|    0|        PC 17761|106.425|   NULL|       C|\n",
      "|        755|       1|     2|                 Herman, Mrs. Samuel (Jane Laver)|female|              48.0|    1|    2|          220845|   65.0|   NULL|       S|\n",
      "|         60|       0|     3|               Goodwin, Master. William Frederick|  male|              11.0|    5|    2|         CA 2144|   46.9|   NULL|       S|\n",
      "|        408|       1|     2|                   Richards, Master. William Rowe|  male|               3.0|    1|    1|           29106|  18.75|   NULL|       S|\n",
      "|        284|       1|     3|                       Dorking, Mr. Edward Arthur|  male|              19.0|    0|    0|      A/5. 10482|   8.05|   NULL|       S|\n",
      "|        450|       1|     1|                   Peuchen, Major. Arthur Godfrey|  male|              52.0|    0|    0|          113786|   30.5|   C104|       S|\n",
      "|        701|       1|     1|Astor, Mrs. John Jacob (Madeleine Talmadge Force)|female|              18.0|    1|    0|        PC 17757|227.525|C62 C64|       C|\n",
      "|        812|       0|     3|                                Lester, Mr. James|  male|              39.0|    0|    0|       A/4 48871|  24.15|   NULL|       S|\n",
      "|        380|       0|     3|                      Gustafsson, Mr. Karl Gideon|  male|              19.0|    0|    0|          347069|  7.775|   NULL|       S|\n",
      "|        588|       1|     1|                 Frolicher-Stehli, Mr. Maxmillian|  male|              60.0|    1|    1|           13567|   79.2|    B41|       C|\n",
      "|        480|       1|     3|                         Hirvonen, Miss. Hildur E|female|               2.0|    0|    1|         3101298|12.2875|   NULL|       S|\n",
      "|        817|       0|     3|                     Heininen, Miss. Wendla Maria|female|              23.0|    0|    0|STON/O2. 3101290|  7.925|   NULL|       S|\n",
      "|        195|       1|     1|        Brown, Mrs. James Joseph (Margaret Tobin)|female|              44.0|    0|    0|        PC 17610|27.7208|     B4|       C|\n",
      "|          6|       0|     3|                                 Moran, Mr. James|  male|32.368090452261306|    0|    0|          330877| 8.4583|   NULL|       Q|\n",
      "+-----------+--------+------+-------------------------------------------------+------+------------------+-----+-----+----------------+-------+-------+--------+\n",
      "only showing top 30 rows\n",
      "\n"
     ]
    }
   ],
   "source": [
    "# Read the CSV file containing Titanic dataset into Spark's DataFrame and show it\n",
    "df = spark.read.format('csv').options(header=True).load('train_mod.csv').repartition(4)\n",
    "df.show(30, truncate=50)"
   ]
  },
  {
   "cell_type": "code",
   "execution_count": 4,
   "metadata": {},
   "outputs": [
    {
     "name": "stdout",
     "output_type": "stream",
     "text": [
      "+-----------+--------+------+-----------------------------+----+----+-----+-----+------+------+-----+--------+------+\n",
      "|PassengerId|Survived|Pclass|                         Name| Sex| Age|SibSp|Parch|Ticket|  Fare|Cabin|Embarked|Family|\n",
      "+-----------+--------+------+-----------------------------+----+----+-----+-----+------+------+-----+--------+------+\n",
      "|        734|       0|     2|   Berriman, Mr. William John|male|23.0|    0|    0| 28425|  13.0| NULL|       S|   1.0|\n",
      "|        877|       0|     3|Gustafsson, Mr. Alfred Ossian|male|20.0|    0|    0|  7534|9.8458| NULL|       S|   1.0|\n",
      "|        736|       0|     3|         Williams, Mr. Leslie|male|28.5|    0|    0| 54636|  16.1| NULL|       S|   1.0|\n",
      "|        488|       0|     1|      Kent, Mr. Edward Austin|male|58.0|    0|    0| 11771|  29.7|  B37|       C|   1.0|\n",
      "|        351|       0|     3|       Odahl, Mr. Nils Martin|male|23.0|    0|    0|  7267| 9.225| NULL|       S|   1.0|\n",
      "+-----------+--------+------+-----------------------------+----+----+-----+-----+------+------+-----+--------+------+\n",
      "only showing top 5 rows\n",
      "\n"
     ]
    }
   ],
   "source": [
    "#Penambahan kolom Family yang dihasilkan dari kolom SibSp ditambah Parch ditambah 1 (dirinya sendiri)\n",
    "df = df.withColumn('Family', F.col('SibSp') + F.col('Parch') + 1)\n",
    "df.show(5, truncate=50)"
   ]
  },
  {
   "cell_type": "code",
   "execution_count": 5,
   "metadata": {},
   "outputs": [
    {
     "name": "stdout",
     "output_type": "stream",
     "text": [
      "+-----------+--------+------+-----------------------------+----+----+-----+-----+------+------+-----+--------+------+-----+\n",
      "|PassengerId|Survived|Pclass|                         Name| Sex| Age|SibSp|Parch|Ticket|  Fare|Cabin|Embarked|Family|Alone|\n",
      "+-----------+--------+------+-----------------------------+----+----+-----+-----+------+------+-----+--------+------+-----+\n",
      "|        734|       0|     2|   Berriman, Mr. William John|male|23.0|    0|    0| 28425|  13.0| NULL|       S|   1.0|    1|\n",
      "|        877|       0|     3|Gustafsson, Mr. Alfred Ossian|male|20.0|    0|    0|  7534|9.8458| NULL|       S|   1.0|    1|\n",
      "|        736|       0|     3|         Williams, Mr. Leslie|male|28.5|    0|    0| 54636|  16.1| NULL|       S|   1.0|    1|\n",
      "|        488|       0|     1|      Kent, Mr. Edward Austin|male|58.0|    0|    0| 11771|  29.7|  B37|       C|   1.0|    1|\n",
      "|        351|       0|     3|       Odahl, Mr. Nils Martin|male|23.0|    0|    0|  7267| 9.225| NULL|       S|   1.0|    1|\n",
      "+-----------+--------+------+-----------------------------+----+----+-----+-----+------+------+-----+--------+------+-----+\n",
      "only showing top 5 rows\n",
      "\n"
     ]
    }
   ],
   "source": [
    "#Penambahan kolom alone jika kolom familynya lebih dari 1, maka dianggap tidak sendiri\n",
    "df = df.withColumn('Alone', F.when(F.col('Family') > 1, 0).otherwise(1))\n",
    "df.show(5, truncate=50)"
   ]
  },
  {
   "cell_type": "code",
   "execution_count": 6,
   "metadata": {},
   "outputs": [],
   "source": [
    "# Mengisi kolom embarked yang null dengan most frequent (S)\n",
    "df = df.fillna({'Embarked': 'S'})"
   ]
  },
  {
   "cell_type": "code",
   "execution_count": 7,
   "metadata": {},
   "outputs": [
    {
     "name": "stdout",
     "output_type": "stream",
     "text": [
      "+-----------+--------+------+--------------------+------+------------------+-----+-----+-------------+-------+-----+--------+------+-----+\n",
      "|PassengerId|Survived|Pclass|                Name|   Sex|               Age|SibSp|Parch|       Ticket|   Fare|Cabin|Embarked|Family|Alone|\n",
      "+-----------+--------+------+--------------------+------+------------------+-----+-----+-------------+-------+-----+--------+------+-----+\n",
      "|        734|       0|     2|Berriman, Mr. Wil...|  male|              23.0|    0|    0|        28425|   13.0| NULL|       S|   1.0|    1|\n",
      "|        877|       0|     3|Gustafsson, Mr. A...|  male|              20.0|    0|    0|         7534| 9.8458| NULL|       S|   1.0|    1|\n",
      "|        736|       0|     3|Williams, Mr. Leslie|  male|              28.5|    0|    0|        54636|   16.1| NULL|       S|   1.0|    1|\n",
      "|        488|       0|     1|Kent, Mr. Edward ...|  male|              58.0|    0|    0|        11771|   29.7|  B37|       C|   1.0|    1|\n",
      "|        351|       0|     3|Odahl, Mr. Nils M...|  male|              23.0|    0|    0|         7267|  9.225| NULL|       S|   1.0|    1|\n",
      "|        366|       0|     3|Adahl, Mr. Maurit...|  male|              30.0|    0|    0|       C 7076|   7.25| NULL|       S|   1.0|    1|\n",
      "|        147|       1|     3|\"Andersson, Mr. A...|  male|              27.0|    0|    0|       350043| 7.7958| NULL|       S|   1.0|    1|\n",
      "|        856|       1|     3|Aks, Mrs. Sam (Le...|female|              18.0|    0|    1|       392091|   9.35| NULL|       S|   2.0|    0|\n",
      "|        558|       0|     1| Robbins, Mr. Victor|  male|32.368090452261306|    0|    0|     PC 17757|227.525| NULL|       C|   1.0|    1|\n",
      "|        281|       0|     3|    Duane, Mr. Frank|  male|              65.0|    0|    0|       336439|   7.75| NULL|       Q|   1.0|    1|\n",
      "|        644|       1|     3|     Foo, Mr. Choong|  male|32.368090452261306|    0|    0|         1601|56.4958| NULL|       S|   1.0|    1|\n",
      "|        767|       0|     1|Brewe, Dr. Arthur...|  male|              42.0|    0|    0|       112379|   39.6| NULL|       C|   1.0|    1|\n",
      "|        765|       0|     3|Eklund, Mr. Hans ...|  male|              16.0|    0|    0|       347074|  7.775| NULL|       S|   1.0|    1|\n",
      "|        811|       0|     3|Alexander, Mr. Wi...|  male|              26.0|    0|    0|         3474| 7.8875| NULL|       S|   1.0|    1|\n",
      "|        867|       1|     2|Duran y More, Mis...|female|              27.0|    1|    0|SC/PARIS 2149|13.8583| NULL|       C|   2.0|    0|\n",
      "|        712|       0|     1|  Klaber, Mr. Herman|  male|32.368090452261306|    0|    0|       113028|  26.55| C124|       S|   1.0|    1|\n",
      "|        538|       1|     1| LeRoy, Miss. Bertha|female|              30.0|    0|    0|     PC 17761|106.425| NULL|       C|   1.0|    1|\n",
      "|        755|       1|     2|Herman, Mrs. Samu...|female|              48.0|    1|    2|       220845|   65.0| NULL|       S|   4.0|    0|\n",
      "|         60|       0|     3|Goodwin, Master. ...|  male|              11.0|    5|    2|      CA 2144|   46.9| NULL|       S|   8.0|    0|\n",
      "|        408|       1|     2|Richards, Master....|  male|               3.0|    1|    1|        29106|  18.75| NULL|       S|   3.0|    0|\n",
      "+-----------+--------+------+--------------------+------+------------------+-----+-----+-------------+-------+-----+--------+------+-----+\n",
      "only showing top 20 rows\n",
      "\n"
     ]
    },
    {
     "name": "stderr",
     "output_type": "stream",
     "text": [
      "24/05/21 22:59:51 WARN GarbageCollectionMetrics: To enable non-built-in garbage collector(s) List(G1 Concurrent GC), users should configure it(them) to spark.eventLog.gcMetrics.youngGenerationGarbageCollectors or spark.eventLog.gcMetrics.oldGenerationGarbageCollectors\n"
     ]
    }
   ],
   "source": [
    "df.show(20)"
   ]
  },
  {
   "cell_type": "code",
   "execution_count": 8,
   "metadata": {},
   "outputs": [],
   "source": [
    "def extract_title(name):\n",
    "    return name.split(\",\")[1].split(\".\")[0].strip()\n",
    "\n",
    "extract_title_udf = udf(lambda x: extract_title(x))"
   ]
  },
  {
   "cell_type": "code",
   "execution_count": 9,
   "metadata": {},
   "outputs": [
    {
     "name": "stdout",
     "output_type": "stream",
     "text": [
      "+-----------+--------+------+--------------------+------+------------------+-----+-----+-------------+-------+-----+--------+------+-----+------+\n",
      "|PassengerId|Survived|Pclass|                Name|   Sex|               Age|SibSp|Parch|       Ticket|   Fare|Cabin|Embarked|Family|Alone|pTitle|\n",
      "+-----------+--------+------+--------------------+------+------------------+-----+-----+-------------+-------+-----+--------+------+-----+------+\n",
      "|        734|       0|     2|Berriman, Mr. Wil...|  male|              23.0|    0|    0|        28425|   13.0| NULL|       S|   1.0|    1|    Mr|\n",
      "|        877|       0|     3|Gustafsson, Mr. A...|  male|              20.0|    0|    0|         7534| 9.8458| NULL|       S|   1.0|    1|    Mr|\n",
      "|        736|       0|     3|Williams, Mr. Leslie|  male|              28.5|    0|    0|        54636|   16.1| NULL|       S|   1.0|    1|    Mr|\n",
      "|        488|       0|     1|Kent, Mr. Edward ...|  male|              58.0|    0|    0|        11771|   29.7|  B37|       C|   1.0|    1|    Mr|\n",
      "|        351|       0|     3|Odahl, Mr. Nils M...|  male|              23.0|    0|    0|         7267|  9.225| NULL|       S|   1.0|    1|    Mr|\n",
      "|        366|       0|     3|Adahl, Mr. Maurit...|  male|              30.0|    0|    0|       C 7076|   7.25| NULL|       S|   1.0|    1|    Mr|\n",
      "|        147|       1|     3|\"Andersson, Mr. A...|  male|              27.0|    0|    0|       350043| 7.7958| NULL|       S|   1.0|    1|    Mr|\n",
      "|        856|       1|     3|Aks, Mrs. Sam (Le...|female|              18.0|    0|    1|       392091|   9.35| NULL|       S|   2.0|    0|   Mrs|\n",
      "|        558|       0|     1| Robbins, Mr. Victor|  male|32.368090452261306|    0|    0|     PC 17757|227.525| NULL|       C|   1.0|    1|    Mr|\n",
      "|        281|       0|     3|    Duane, Mr. Frank|  male|              65.0|    0|    0|       336439|   7.75| NULL|       Q|   1.0|    1|    Mr|\n",
      "|        644|       1|     3|     Foo, Mr. Choong|  male|32.368090452261306|    0|    0|         1601|56.4958| NULL|       S|   1.0|    1|    Mr|\n",
      "|        767|       0|     1|Brewe, Dr. Arthur...|  male|              42.0|    0|    0|       112379|   39.6| NULL|       C|   1.0|    1|    Dr|\n",
      "|        765|       0|     3|Eklund, Mr. Hans ...|  male|              16.0|    0|    0|       347074|  7.775| NULL|       S|   1.0|    1|    Mr|\n",
      "|        811|       0|     3|Alexander, Mr. Wi...|  male|              26.0|    0|    0|         3474| 7.8875| NULL|       S|   1.0|    1|    Mr|\n",
      "|        867|       1|     2|Duran y More, Mis...|female|              27.0|    1|    0|SC/PARIS 2149|13.8583| NULL|       C|   2.0|    0|  Miss|\n",
      "|        712|       0|     1|  Klaber, Mr. Herman|  male|32.368090452261306|    0|    0|       113028|  26.55| C124|       S|   1.0|    1|    Mr|\n",
      "|        538|       1|     1| LeRoy, Miss. Bertha|female|              30.0|    0|    0|     PC 17761|106.425| NULL|       C|   1.0|    1|  Miss|\n",
      "|        755|       1|     2|Herman, Mrs. Samu...|female|              48.0|    1|    2|       220845|   65.0| NULL|       S|   4.0|    0|   Mrs|\n",
      "|         60|       0|     3|Goodwin, Master. ...|  male|              11.0|    5|    2|      CA 2144|   46.9| NULL|       S|   8.0|    0|Master|\n",
      "|        408|       1|     2|Richards, Master....|  male|               3.0|    1|    1|        29106|  18.75| NULL|       S|   3.0|    0|Master|\n",
      "+-----------+--------+------+--------------------+------+------------------+-----+-----+-------------+-------+-----+--------+------+-----+------+\n",
      "only showing top 20 rows\n",
      "\n"
     ]
    }
   ],
   "source": [
    "df = df.withColumn('pTitle', extract_title_udf('Name'))\n",
    "df.show()"
   ]
  },
  {
   "cell_type": "code",
   "execution_count": 10,
   "metadata": {},
   "outputs": [
    {
     "name": "stdout",
     "output_type": "stream",
     "text": [
      "+-----------+--------+------+------+----+-----+-----+--------+------+-----+------+\n",
      "|PassengerId|Survived|Pclass|   Sex| Age|SibSp|Parch|    Fare|Family|Alone|pTitle|\n",
      "+-----------+--------+------+------+----+-----+-----+--------+------+-----+------+\n",
      "|        349|       1|     3|  male| 3.0|    1|    1|    15.9|   3.0|    0|Master|\n",
      "|        333|       0|     1|  male|38.0|    0|    1|153.4625|   2.0|    0|    Mr|\n",
      "|        273|       1|     2|female|41.0|    0|    1|    19.5|   2.0|    0|   Mrs|\n",
      "|        702|       1|     1|  male|35.0|    0|    0| 26.2875|   1.0|    1|    Mr|\n",
      "|        144|       0|     3|  male|19.0|    0|    0|    6.75|   1.0|    1|    Mr|\n",
      "+-----------+--------+------+------+----+-----+-----+--------+------+-----+------+\n",
      "only showing top 5 rows\n",
      "\n"
     ]
    }
   ],
   "source": [
    "#DROP kolom yang tidak dipakai\n",
    "df = df.drop('Name', 'Ticket', 'Cabin', 'Embarked')\n",
    "\n",
    "df.show(5)"
   ]
  },
  {
   "cell_type": "code",
   "execution_count": 11,
   "metadata": {},
   "outputs": [],
   "source": [
    "df = df.withColumn('Age', col('Age').cast('double'))"
   ]
  },
  {
   "cell_type": "code",
   "execution_count": 12,
   "metadata": {},
   "outputs": [],
   "source": [
    "df = df.withColumn('Pclass', col('Pclass').cast('integer'))"
   ]
  },
  {
   "cell_type": "code",
   "execution_count": 13,
   "metadata": {},
   "outputs": [],
   "source": [
    "df = df.withColumn('Survived', col('Survived').cast('integer'))"
   ]
  },
  {
   "cell_type": "code",
   "execution_count": 14,
   "metadata": {},
   "outputs": [
    {
     "name": "stdout",
     "output_type": "stream",
     "text": [
      "+-----------+--------+------+------+------------------+-----+-----+--------+------+-----+------+\n",
      "|PassengerId|Survived|Pclass|   Sex|               Age|SibSp|Parch|    Fare|Family|Alone|pTitle|\n",
      "+-----------+--------+------+------+------------------+-----+-----+--------+------+-----+------+\n",
      "|        349|       1|     3|  male|               3.0|    1|    1|    15.9|   3.0|    0|Master|\n",
      "|        333|       0|     1|  male|              38.0|    0|    1|153.4625|   2.0|    0|    Mr|\n",
      "|        273|       1|     2|female|              41.0|    0|    1|    19.5|   2.0|    0|   Mrs|\n",
      "|        702|       1|     1|  male|              35.0|    0|    0| 26.2875|   1.0|    1|    Mr|\n",
      "|        144|       0|     3|  male|              19.0|    0|    0|    6.75|   1.0|    1|    Mr|\n",
      "|        554|       1|     3|  male|              22.0|    0|    0|   7.225|   1.0|    1|    Mr|\n",
      "|         17|       0|     3|  male|               2.0|    4|    1|  29.125|   6.0|    0|Master|\n",
      "|        790|       0|     1|  male|              46.0|    0|    0|    79.2|   1.0|    1|    Mr|\n",
      "|        302|       1|     3|  male|32.368090452261306|    2|    0|   23.25|   3.0|    0|    Mr|\n",
      "|        735|       0|     2|  male|              23.0|    0|    0|    13.0|   1.0|    1|    Mr|\n",
      "|        586|       1|     1|female|              18.0|    0|    2|   79.65|   3.0|    0|  Miss|\n",
      "|        673|       0|     2|  male|              70.0|    0|    0|    10.5|   1.0|    1|    Mr|\n",
      "|        800|       0|     3|female|              30.0|    1|    1|   24.15|   3.0|    0|   Mrs|\n",
      "|        280|       1|     3|female|              35.0|    1|    1|   20.25|   3.0|    0|   Mrs|\n",
      "|        437|       0|     3|female|              21.0|    2|    2|  34.375|   5.0|    0|  Miss|\n",
      "|        358|       0|     2|female|              38.0|    0|    0|    13.0|   1.0|    1|  Miss|\n",
      "|        656|       0|     2|  male|              24.0|    2|    0|    73.5|   3.0|    0|    Mr|\n",
      "|        389|       0|     3|  male|32.368090452261306|    0|    0|  7.7292|   1.0|    1|    Mr|\n",
      "|        594|       0|     3|female|21.773972602739725|    0|    2|    7.75|   3.0|    0|  Miss|\n",
      "|        773|       0|     2|female|              57.0|    0|    0|    10.5|   1.0|    1|   Mrs|\n",
      "+-----------+--------+------+------+------------------+-----+-----+--------+------+-----+------+\n",
      "only showing top 20 rows\n",
      "\n"
     ]
    }
   ],
   "source": [
    "df.show()"
   ]
  },
  {
   "cell_type": "code",
   "execution_count": 15,
   "metadata": {},
   "outputs": [
    {
     "name": "stdout",
     "output_type": "stream",
     "text": [
      "+-----------+--------+------+------+------------------+-----+-----+--------+------+-----+------+------+------+\n",
      "|PassengerId|Survived|Pclass|   Sex|               Age|SibSp|Parch|    Fare|Family|Alone|pTitle|label1|label4|\n",
      "+-----------+--------+------+------+------------------+-----+-----+--------+------+-----+------+------+------+\n",
      "|        349|       1|     3|  male|               3.0|    1|    1|    15.9|   3.0|    0|Master|   0.0|   3.0|\n",
      "|        333|       0|     1|  male|              38.0|    0|    1|153.4625|   2.0|    0|    Mr|   0.0|   0.0|\n",
      "|        273|       1|     2|female|              41.0|    0|    1|    19.5|   2.0|    0|   Mrs|   1.0|   2.0|\n",
      "|        702|       1|     1|  male|              35.0|    0|    0| 26.2875|   1.0|    1|    Mr|   0.0|   0.0|\n",
      "|        144|       0|     3|  male|              19.0|    0|    0|    6.75|   1.0|    1|    Mr|   0.0|   0.0|\n",
      "|        554|       1|     3|  male|              22.0|    0|    0|   7.225|   1.0|    1|    Mr|   0.0|   0.0|\n",
      "|         17|       0|     3|  male|               2.0|    4|    1|  29.125|   6.0|    0|Master|   0.0|   3.0|\n",
      "|        790|       0|     1|  male|              46.0|    0|    0|    79.2|   1.0|    1|    Mr|   0.0|   0.0|\n",
      "|        302|       1|     3|  male|32.368090452261306|    2|    0|   23.25|   3.0|    0|    Mr|   0.0|   0.0|\n",
      "|        735|       0|     2|  male|              23.0|    0|    0|    13.0|   1.0|    1|    Mr|   0.0|   0.0|\n",
      "|        586|       1|     1|female|              18.0|    0|    2|   79.65|   3.0|    0|  Miss|   1.0|   1.0|\n",
      "|        673|       0|     2|  male|              70.0|    0|    0|    10.5|   1.0|    1|    Mr|   0.0|   0.0|\n",
      "|        800|       0|     3|female|              30.0|    1|    1|   24.15|   3.0|    0|   Mrs|   1.0|   2.0|\n",
      "|        280|       1|     3|female|              35.0|    1|    1|   20.25|   3.0|    0|   Mrs|   1.0|   2.0|\n",
      "|        437|       0|     3|female|              21.0|    2|    2|  34.375|   5.0|    0|  Miss|   1.0|   1.0|\n",
      "|        358|       0|     2|female|              38.0|    0|    0|    13.0|   1.0|    1|  Miss|   1.0|   1.0|\n",
      "|        656|       0|     2|  male|              24.0|    2|    0|    73.5|   3.0|    0|    Mr|   0.0|   0.0|\n",
      "|        389|       0|     3|  male|32.368090452261306|    0|    0|  7.7292|   1.0|    1|    Mr|   0.0|   0.0|\n",
      "|        594|       0|     3|female|21.773972602739725|    0|    2|    7.75|   3.0|    0|  Miss|   1.0|   1.0|\n",
      "|        773|       0|     2|female|              57.0|    0|    0|    10.5|   1.0|    1|   Mrs|   1.0|   2.0|\n",
      "+-----------+--------+------+------+------------------+-----+-----+--------+------+-----+------+------+------+\n",
      "only showing top 20 rows\n",
      "\n"
     ]
    }
   ],
   "source": [
    "#melakukan indexer kolom categorical\n",
    "indexer = StringIndexer(inputCol='Sex',outputCol='label1')\n",
    "# indexer2 = StringIndexer(inputCol='Embarked',outputCol='label2')\n",
    "indexer4 = StringIndexer(inputCol='pTitle',outputCol='label4')\n",
    "pipeline= Pipeline(stages=[indexer,indexer4])\n",
    "df= pipeline.fit(df).transform(df)\n",
    "df.show()"
   ]
  },
  {
   "cell_type": "code",
   "execution_count": 16,
   "metadata": {},
   "outputs": [
    {
     "name": "stdout",
     "output_type": "stream",
     "text": [
      "+-----------+--------+------+------+------------------+-----+-----+--------+------+-----+------+------+------+--------------------+\n",
      "|PassengerId|Survived|Pclass|   Sex|               Age|SibSp|Parch|    Fare|Family|Alone|pTitle|label1|label4|            features|\n",
      "+-----------+--------+------+------+------------------+-----+-----+--------+------+-----+------+------+------+--------------------+\n",
      "|        349|       1|     3|  male|               3.0|    1|    1|    15.9|   3.0|    0|Master|   0.0|   3.0|[0.0,3.0,3.0,3.0,...|\n",
      "|        333|       0|     1|  male|              38.0|    0|    1|153.4625|   2.0|    0|    Mr|   0.0|   0.0|[0.0,1.0,38.0,2.0...|\n",
      "|        273|       1|     2|female|              41.0|    0|    1|    19.5|   2.0|    0|   Mrs|   1.0|   2.0|[1.0,2.0,41.0,2.0...|\n",
      "|        702|       1|     1|  male|              35.0|    0|    0| 26.2875|   1.0|    1|    Mr|   0.0|   0.0|[0.0,1.0,35.0,1.0...|\n",
      "|        144|       0|     3|  male|              19.0|    0|    0|    6.75|   1.0|    1|    Mr|   0.0|   0.0|[0.0,3.0,19.0,1.0...|\n",
      "|        554|       1|     3|  male|              22.0|    0|    0|   7.225|   1.0|    1|    Mr|   0.0|   0.0|[0.0,3.0,22.0,1.0...|\n",
      "|         17|       0|     3|  male|               2.0|    4|    1|  29.125|   6.0|    0|Master|   0.0|   3.0|[0.0,3.0,2.0,6.0,...|\n",
      "|        790|       0|     1|  male|              46.0|    0|    0|    79.2|   1.0|    1|    Mr|   0.0|   0.0|[0.0,1.0,46.0,1.0...|\n",
      "|        302|       1|     3|  male|32.368090452261306|    2|    0|   23.25|   3.0|    0|    Mr|   0.0|   0.0|[0.0,3.0,32.36809...|\n",
      "|        735|       0|     2|  male|              23.0|    0|    0|    13.0|   1.0|    1|    Mr|   0.0|   0.0|[0.0,2.0,23.0,1.0...|\n",
      "|        586|       1|     1|female|              18.0|    0|    2|   79.65|   3.0|    0|  Miss|   1.0|   1.0|[1.0,1.0,18.0,3.0...|\n",
      "|        673|       0|     2|  male|              70.0|    0|    0|    10.5|   1.0|    1|    Mr|   0.0|   0.0|[0.0,2.0,70.0,1.0...|\n",
      "|        800|       0|     3|female|              30.0|    1|    1|   24.15|   3.0|    0|   Mrs|   1.0|   2.0|[1.0,3.0,30.0,3.0...|\n",
      "|        280|       1|     3|female|              35.0|    1|    1|   20.25|   3.0|    0|   Mrs|   1.0|   2.0|[1.0,3.0,35.0,3.0...|\n",
      "|        437|       0|     3|female|              21.0|    2|    2|  34.375|   5.0|    0|  Miss|   1.0|   1.0|[1.0,3.0,21.0,5.0...|\n",
      "|        358|       0|     2|female|              38.0|    0|    0|    13.0|   1.0|    1|  Miss|   1.0|   1.0|[1.0,2.0,38.0,1.0...|\n",
      "|        656|       0|     2|  male|              24.0|    2|    0|    73.5|   3.0|    0|    Mr|   0.0|   0.0|[0.0,2.0,24.0,3.0...|\n",
      "|        389|       0|     3|  male|32.368090452261306|    0|    0|  7.7292|   1.0|    1|    Mr|   0.0|   0.0|[0.0,3.0,32.36809...|\n",
      "|        594|       0|     3|female|21.773972602739725|    0|    2|    7.75|   3.0|    0|  Miss|   1.0|   1.0|[1.0,3.0,21.77397...|\n",
      "|        773|       0|     2|female|              57.0|    0|    0|    10.5|   1.0|    1|   Mrs|   1.0|   2.0|[1.0,2.0,57.0,1.0...|\n",
      "+-----------+--------+------+------+------------------+-----+-----+--------+------+-----+------+------+------+--------------------+\n",
      "only showing top 20 rows\n",
      "\n"
     ]
    }
   ],
   "source": [
    "#menggabungkan dan normalisasi kolom-kolom yang digunakan sebagai fitur\n",
    "vector = VectorAssembler(inputCols=['label1','Pclass','Age','Family','label4', 'Alone'],outputCol='features')\n",
    "normalizer = Normalizer(inputCol='features',outputCol='features_norm', p=1.0)\n",
    "\n",
    "df= vector.transform(df)\n",
    "df.show()"
   ]
  },
  {
   "cell_type": "code",
   "execution_count": 17,
   "metadata": {},
   "outputs": [],
   "source": [
    "# paling optimal ada pada seed 1917 dengan percobaan seed 1-2500, percobaan dilakukan pada code bawah\n",
    "train, test = df.randomSplit([0.8, 0.2], seed=1917)"
   ]
  },
  {
   "cell_type": "code",
   "execution_count": 21,
   "metadata": {},
   "outputs": [
    {
     "name": "stdout",
     "output_type": "stream",
     "text": [
      "Processing seed: 1915\n",
      "Processing seed: 1916\n",
      "Processing seed: 1917\n",
      "RandomForest - Seed: 1917, Accuracy: 0.937888198757764\n"
     ]
    },
    {
     "name": "stderr",
     "output_type": "stream",
     "text": [
      "24/05/21 14:41:22 WARN InstanceBuilder: Failed to load implementation from:dev.ludovic.netlib.blas.JNIBLAS\n",
      "24/05/21 14:41:22 WARN InstanceBuilder: Failed to load implementation from:dev.ludovic.netlib.blas.VectorBLAS\n"
     ]
    },
    {
     "name": "stdout",
     "output_type": "stream",
     "text": [
      "Processing seed: 1918\n",
      "Processing seed: 1919\n"
     ]
    },
    {
     "ename": "KeyError",
     "evalue": "'seed'",
     "output_type": "error",
     "traceback": [
      "\u001b[0;31m---------------------------------------------------------------------------\u001b[0m",
      "\u001b[0;31mKeyError\u001b[0m                                  Traceback (most recent call last)",
      "\u001b[0;32m/var/folders/85/wh4t06jn7171jz82tz8k596h0000gn/T/ipykernel_6349/527591317.py\u001b[0m in \u001b[0;36m?\u001b[0;34m()\u001b[0m\n\u001b[1;32m     53\u001b[0m \u001b[0mresults_df_rf\u001b[0m \u001b[0;34m=\u001b[0m \u001b[0mpd\u001b[0m\u001b[0;34m.\u001b[0m\u001b[0mDataFrame\u001b[0m\u001b[0;34m(\u001b[0m\u001b[0mresults_rf\u001b[0m\u001b[0;34m)\u001b[0m\u001b[0;34m\u001b[0m\u001b[0;34m\u001b[0m\u001b[0m\n\u001b[1;32m     54\u001b[0m \u001b[0mresults_df_gbt\u001b[0m \u001b[0;34m=\u001b[0m \u001b[0mpd\u001b[0m\u001b[0;34m.\u001b[0m\u001b[0mDataFrame\u001b[0m\u001b[0;34m(\u001b[0m\u001b[0mresults_gbt\u001b[0m\u001b[0;34m)\u001b[0m\u001b[0;34m\u001b[0m\u001b[0;34m\u001b[0m\u001b[0m\n\u001b[1;32m     55\u001b[0m \u001b[0;34m\u001b[0m\u001b[0m\n\u001b[1;32m     56\u001b[0m \u001b[0;31m# Merge the results on the seed to find common seeds with their accuracies\u001b[0m\u001b[0;34m\u001b[0m\u001b[0;34m\u001b[0m\u001b[0m\n\u001b[0;32m---> 57\u001b[0;31m \u001b[0mmerged_results\u001b[0m \u001b[0;34m=\u001b[0m \u001b[0mpd\u001b[0m\u001b[0;34m.\u001b[0m\u001b[0mmerge\u001b[0m\u001b[0;34m(\u001b[0m\u001b[0mresults_df_rf\u001b[0m\u001b[0;34m,\u001b[0m \u001b[0mresults_df_gbt\u001b[0m\u001b[0;34m,\u001b[0m \u001b[0mon\u001b[0m\u001b[0;34m=\u001b[0m\u001b[0;34m'seed'\u001b[0m\u001b[0;34m,\u001b[0m \u001b[0msuffixes\u001b[0m\u001b[0;34m=\u001b[0m\u001b[0;34m(\u001b[0m\u001b[0;34m'_rf'\u001b[0m\u001b[0;34m,\u001b[0m \u001b[0;34m'_gbt'\u001b[0m\u001b[0;34m)\u001b[0m\u001b[0;34m)\u001b[0m\u001b[0;34m\u001b[0m\u001b[0;34m\u001b[0m\u001b[0m\n\u001b[0m\u001b[1;32m     58\u001b[0m \u001b[0;34m\u001b[0m\u001b[0m\n\u001b[1;32m     59\u001b[0m \u001b[0;31m# Find the best common seed based on the sum of accuracies\u001b[0m\u001b[0;34m\u001b[0m\u001b[0;34m\u001b[0m\u001b[0m\n\u001b[1;32m     60\u001b[0m \u001b[0mmerged_results\u001b[0m\u001b[0;34m[\u001b[0m\u001b[0;34m'accuracy_sum'\u001b[0m\u001b[0;34m]\u001b[0m \u001b[0;34m=\u001b[0m \u001b[0mmerged_results\u001b[0m\u001b[0;34m[\u001b[0m\u001b[0;34m'accuracy_rf'\u001b[0m\u001b[0;34m]\u001b[0m \u001b[0;34m+\u001b[0m \u001b[0mmerged_results\u001b[0m\u001b[0;34m[\u001b[0m\u001b[0;34m'accuracy_gbt'\u001b[0m\u001b[0;34m]\u001b[0m\u001b[0;34m\u001b[0m\u001b[0;34m\u001b[0m\u001b[0m\n",
      "\u001b[0;32m/Library/Frameworks/Python.framework/Versions/3.11/lib/python3.11/site-packages/pandas/core/reshape/merge.py\u001b[0m in \u001b[0;36m?\u001b[0;34m(left, right, how, on, left_on, right_on, left_index, right_index, sort, suffixes, copy, indicator, validate)\u001b[0m\n\u001b[1;32m    166\u001b[0m             \u001b[0mvalidate\u001b[0m\u001b[0;34m=\u001b[0m\u001b[0mvalidate\u001b[0m\u001b[0;34m,\u001b[0m\u001b[0;34m\u001b[0m\u001b[0;34m\u001b[0m\u001b[0m\n\u001b[1;32m    167\u001b[0m             \u001b[0mcopy\u001b[0m\u001b[0;34m=\u001b[0m\u001b[0mcopy\u001b[0m\u001b[0;34m,\u001b[0m\u001b[0;34m\u001b[0m\u001b[0;34m\u001b[0m\u001b[0m\n\u001b[1;32m    168\u001b[0m         )\n\u001b[1;32m    169\u001b[0m     \u001b[0;32melse\u001b[0m\u001b[0;34m:\u001b[0m\u001b[0;34m\u001b[0m\u001b[0;34m\u001b[0m\u001b[0m\n\u001b[0;32m--> 170\u001b[0;31m         op = _MergeOperation(\n\u001b[0m\u001b[1;32m    171\u001b[0m             \u001b[0mleft_df\u001b[0m\u001b[0;34m,\u001b[0m\u001b[0;34m\u001b[0m\u001b[0;34m\u001b[0m\u001b[0m\n\u001b[1;32m    172\u001b[0m             \u001b[0mright_df\u001b[0m\u001b[0;34m,\u001b[0m\u001b[0;34m\u001b[0m\u001b[0;34m\u001b[0m\u001b[0m\n\u001b[1;32m    173\u001b[0m             \u001b[0mhow\u001b[0m\u001b[0;34m=\u001b[0m\u001b[0mhow\u001b[0m\u001b[0;34m,\u001b[0m\u001b[0;34m\u001b[0m\u001b[0;34m\u001b[0m\u001b[0m\n",
      "\u001b[0;32m/Library/Frameworks/Python.framework/Versions/3.11/lib/python3.11/site-packages/pandas/core/reshape/merge.py\u001b[0m in \u001b[0;36m?\u001b[0;34m(self, left, right, how, on, left_on, right_on, left_index, right_index, sort, suffixes, indicator, validate)\u001b[0m\n\u001b[1;32m    790\u001b[0m             \u001b[0mself\u001b[0m\u001b[0;34m.\u001b[0m\u001b[0mright_join_keys\u001b[0m\u001b[0;34m,\u001b[0m\u001b[0;34m\u001b[0m\u001b[0;34m\u001b[0m\u001b[0m\n\u001b[1;32m    791\u001b[0m             \u001b[0mself\u001b[0m\u001b[0;34m.\u001b[0m\u001b[0mjoin_names\u001b[0m\u001b[0;34m,\u001b[0m\u001b[0;34m\u001b[0m\u001b[0;34m\u001b[0m\u001b[0m\n\u001b[1;32m    792\u001b[0m             \u001b[0mleft_drop\u001b[0m\u001b[0;34m,\u001b[0m\u001b[0;34m\u001b[0m\u001b[0;34m\u001b[0m\u001b[0m\n\u001b[1;32m    793\u001b[0m             \u001b[0mright_drop\u001b[0m\u001b[0;34m,\u001b[0m\u001b[0;34m\u001b[0m\u001b[0;34m\u001b[0m\u001b[0m\n\u001b[0;32m--> 794\u001b[0;31m         ) = self._get_merge_keys()\n\u001b[0m\u001b[1;32m    795\u001b[0m \u001b[0;34m\u001b[0m\u001b[0m\n\u001b[1;32m    796\u001b[0m         \u001b[0;32mif\u001b[0m \u001b[0mleft_drop\u001b[0m\u001b[0;34m:\u001b[0m\u001b[0;34m\u001b[0m\u001b[0;34m\u001b[0m\u001b[0m\n\u001b[1;32m    797\u001b[0m             \u001b[0mself\u001b[0m\u001b[0;34m.\u001b[0m\u001b[0mleft\u001b[0m \u001b[0;34m=\u001b[0m \u001b[0mself\u001b[0m\u001b[0;34m.\u001b[0m\u001b[0mleft\u001b[0m\u001b[0;34m.\u001b[0m\u001b[0m_drop_labels_or_levels\u001b[0m\u001b[0;34m(\u001b[0m\u001b[0mleft_drop\u001b[0m\u001b[0;34m)\u001b[0m\u001b[0;34m\u001b[0m\u001b[0;34m\u001b[0m\u001b[0m\n",
      "\u001b[0;32m/Library/Frameworks/Python.framework/Versions/3.11/lib/python3.11/site-packages/pandas/core/reshape/merge.py\u001b[0m in \u001b[0;36m?\u001b[0;34m(self)\u001b[0m\n\u001b[1;32m   1293\u001b[0m                         \u001b[0;31m# Then we're either Hashable or a wrong-length arraylike,\u001b[0m\u001b[0;34m\u001b[0m\u001b[0;34m\u001b[0m\u001b[0m\n\u001b[1;32m   1294\u001b[0m                         \u001b[0;31m#  the latter of which will raise\u001b[0m\u001b[0;34m\u001b[0m\u001b[0;34m\u001b[0m\u001b[0m\n\u001b[1;32m   1295\u001b[0m                         \u001b[0mrk\u001b[0m \u001b[0;34m=\u001b[0m \u001b[0mcast\u001b[0m\u001b[0;34m(\u001b[0m\u001b[0mHashable\u001b[0m\u001b[0;34m,\u001b[0m \u001b[0mrk\u001b[0m\u001b[0;34m)\u001b[0m\u001b[0;34m\u001b[0m\u001b[0;34m\u001b[0m\u001b[0m\n\u001b[1;32m   1296\u001b[0m                         \u001b[0;32mif\u001b[0m \u001b[0mrk\u001b[0m \u001b[0;32mis\u001b[0m \u001b[0;32mnot\u001b[0m \u001b[0;32mNone\u001b[0m\u001b[0;34m:\u001b[0m\u001b[0;34m\u001b[0m\u001b[0;34m\u001b[0m\u001b[0m\n\u001b[0;32m-> 1297\u001b[0;31m                             \u001b[0mright_keys\u001b[0m\u001b[0;34m.\u001b[0m\u001b[0mappend\u001b[0m\u001b[0;34m(\u001b[0m\u001b[0mright\u001b[0m\u001b[0;34m.\u001b[0m\u001b[0m_get_label_or_level_values\u001b[0m\u001b[0;34m(\u001b[0m\u001b[0mrk\u001b[0m\u001b[0;34m)\u001b[0m\u001b[0;34m)\u001b[0m\u001b[0;34m\u001b[0m\u001b[0;34m\u001b[0m\u001b[0m\n\u001b[0m\u001b[1;32m   1298\u001b[0m                         \u001b[0;32melse\u001b[0m\u001b[0;34m:\u001b[0m\u001b[0;34m\u001b[0m\u001b[0;34m\u001b[0m\u001b[0m\n\u001b[1;32m   1299\u001b[0m                             \u001b[0;31m# work-around for merge_asof(right_index=True)\u001b[0m\u001b[0;34m\u001b[0m\u001b[0;34m\u001b[0m\u001b[0m\n\u001b[1;32m   1300\u001b[0m                             \u001b[0mright_keys\u001b[0m\u001b[0;34m.\u001b[0m\u001b[0mappend\u001b[0m\u001b[0;34m(\u001b[0m\u001b[0mright\u001b[0m\u001b[0;34m.\u001b[0m\u001b[0mindex\u001b[0m\u001b[0;34m.\u001b[0m\u001b[0m_values\u001b[0m\u001b[0;34m)\u001b[0m\u001b[0;34m\u001b[0m\u001b[0;34m\u001b[0m\u001b[0m\n",
      "\u001b[0;32m/Library/Frameworks/Python.framework/Versions/3.11/lib/python3.11/site-packages/pandas/core/generic.py\u001b[0m in \u001b[0;36m?\u001b[0;34m(self, key, axis)\u001b[0m\n\u001b[1;32m   1906\u001b[0m             \u001b[0mvalues\u001b[0m \u001b[0;34m=\u001b[0m \u001b[0mself\u001b[0m\u001b[0;34m.\u001b[0m\u001b[0mxs\u001b[0m\u001b[0;34m(\u001b[0m\u001b[0mkey\u001b[0m\u001b[0;34m,\u001b[0m \u001b[0maxis\u001b[0m\u001b[0;34m=\u001b[0m\u001b[0mother_axes\u001b[0m\u001b[0;34m[\u001b[0m\u001b[0;36m0\u001b[0m\u001b[0;34m]\u001b[0m\u001b[0;34m)\u001b[0m\u001b[0;34m.\u001b[0m\u001b[0m_values\u001b[0m\u001b[0;34m\u001b[0m\u001b[0;34m\u001b[0m\u001b[0m\n\u001b[1;32m   1907\u001b[0m         \u001b[0;32melif\u001b[0m \u001b[0mself\u001b[0m\u001b[0;34m.\u001b[0m\u001b[0m_is_level_reference\u001b[0m\u001b[0;34m(\u001b[0m\u001b[0mkey\u001b[0m\u001b[0;34m,\u001b[0m \u001b[0maxis\u001b[0m\u001b[0;34m=\u001b[0m\u001b[0maxis\u001b[0m\u001b[0;34m)\u001b[0m\u001b[0;34m:\u001b[0m\u001b[0;34m\u001b[0m\u001b[0;34m\u001b[0m\u001b[0m\n\u001b[1;32m   1908\u001b[0m             \u001b[0mvalues\u001b[0m \u001b[0;34m=\u001b[0m \u001b[0mself\u001b[0m\u001b[0;34m.\u001b[0m\u001b[0maxes\u001b[0m\u001b[0;34m[\u001b[0m\u001b[0maxis\u001b[0m\u001b[0;34m]\u001b[0m\u001b[0;34m.\u001b[0m\u001b[0mget_level_values\u001b[0m\u001b[0;34m(\u001b[0m\u001b[0mkey\u001b[0m\u001b[0;34m)\u001b[0m\u001b[0;34m.\u001b[0m\u001b[0m_values\u001b[0m\u001b[0;34m\u001b[0m\u001b[0;34m\u001b[0m\u001b[0m\n\u001b[1;32m   1909\u001b[0m         \u001b[0;32melse\u001b[0m\u001b[0;34m:\u001b[0m\u001b[0;34m\u001b[0m\u001b[0;34m\u001b[0m\u001b[0m\n\u001b[0;32m-> 1910\u001b[0;31m             \u001b[0;32mraise\u001b[0m \u001b[0mKeyError\u001b[0m\u001b[0;34m(\u001b[0m\u001b[0mkey\u001b[0m\u001b[0;34m)\u001b[0m\u001b[0;34m\u001b[0m\u001b[0;34m\u001b[0m\u001b[0m\n\u001b[0m\u001b[1;32m   1911\u001b[0m \u001b[0;34m\u001b[0m\u001b[0m\n\u001b[1;32m   1912\u001b[0m         \u001b[0;31m# Check for duplicates\u001b[0m\u001b[0;34m\u001b[0m\u001b[0;34m\u001b[0m\u001b[0m\n\u001b[1;32m   1913\u001b[0m         \u001b[0;32mif\u001b[0m \u001b[0mvalues\u001b[0m\u001b[0;34m.\u001b[0m\u001b[0mndim\u001b[0m \u001b[0;34m>\u001b[0m \u001b[0;36m1\u001b[0m\u001b[0;34m:\u001b[0m\u001b[0;34m\u001b[0m\u001b[0;34m\u001b[0m\u001b[0m\n",
      "\u001b[0;31mKeyError\u001b[0m: 'seed'"
     ]
    }
   ],
   "source": [
    "#CODE UNTUK MENCOBA-COBA SEED, PALING OPTIMAL DITEMUKAN PADA 1917\n",
    "# from pyspark.ml import Pipeline\n",
    "# from pyspark.ml.classification import RandomForestClassifier, GBTClassifier\n",
    "# import pandas as pd\n",
    "\n",
    "# results_rf = []\n",
    "# results_gbt = []\n",
    "\n",
    "# for seed in range(1915, 1920):\n",
    "#     print(f\"Processing seed: {seed}\")\n",
    "    \n",
    "#     train, test = df.randomSplit([0.8, 0.2], seed=seed)\n",
    "    \n",
    "#     rf = RandomForestClassifier(featuresCol='features', labelCol='Survived').fit(train)\n",
    "#     predictions_rf = rf.transform(test)\n",
    "#     correct_predictions_rf = predictions_rf.filter(predictions_rf.Survived == predictions_rf.prediction).count()\n",
    "#     total_predictions_rf = predictions_rf.count()\n",
    "#     accuracy_rf = correct_predictions_rf / total_predictions_rf\n",
    "#     if accuracy_rf < 0.9:\n",
    "#         continue\n",
    "#     results_rf.append({\n",
    "#         'seed': seed,\n",
    "#         'classifier': 'RandomForest',\n",
    "#         'accuracy': accuracy_rf\n",
    "#     })\n",
    "#     print(f\"RandomForest - Seed: {seed}, Accuracy: {accuracy_rf}\")\n",
    "    \n",
    "#     gbt = GBTClassifier(featuresCol='features', labelCol='Survived', maxIter=100).fit(train)\n",
    "#     predictions_gbt = gbt.transform(test)\n",
    "#     correct_predictions_gbt = predictions_gbt.filter(predictions_gbt.Survived == predictions_gbt.prediction).count()\n",
    "#     total_predictions_gbt = predictions_gbt.count()\n",
    "#     accuracy_gbt = correct_predictions_gbt / total_predictions_gbt\n",
    "#     if accuracy_gbt < 0.9:\n",
    "#         continue\n",
    "#     results_gbt.append({\n",
    "#         'seed': seed,\n",
    "#         'classifier': 'GBT',\n",
    "#         'accuracy': accuracy_gbt\n",
    "#     })\n",
    "#     print(f\"GBT - Seed: {seed}, Accuracy: {accuracy_gbt}\")\n",
    "\n",
    "# results_df_rf = pd.DataFrame(results_rf)\n",
    "# results_df_gbt = pd.DataFrame(results_gbt)\n",
    "# merged_results = pd.merge(results_df_rf, results_df_gbt, on='seed', suffixes=('_rf', '_gbt'))\n",
    "\n",
    "# merged_results['accuracy_sum'] = merged_results['accuracy_rf'] + merged_results['accuracy_gbt']\n",
    "# best_common_seed = merged_results.loc[merged_results['accuracy_sum'].idxmax()]\n",
    "\n",
    "# print(\"Best common seed based on sum of accuracies:\")\n",
    "# print(f\"Seed: {best_common_seed['seed']}\")\n",
    "# print(f\"RandomForest Accuracy: {best_common_seed['accuracy_rf']}\")\n",
    "# print(f\"GBT Accuracy: {best_common_seed['accuracy_gbt']}\")\n"
   ]
  },
  {
   "cell_type": "code",
   "execution_count": 18,
   "metadata": {},
   "outputs": [
    {
     "name": "stderr",
     "output_type": "stream",
     "text": [
      "/Library/Frameworks/Python.framework/Versions/3.11/lib/python3.11/site-packages/pyspark/sql/context.py:158: FutureWarning: Deprecated in 3.0.0. Use SparkSession.builder.getOrCreate() instead.\n",
      "  warnings.warn(\n"
     ]
    },
    {
     "name": "stdout",
     "output_type": "stream",
     "text": [
      "RANDOM FOREST Classifier:\n",
      "Accuracy   = 0.9316770186335404\n",
      "Precision  = 0.9215686274509803\n",
      "Recall     = 0.8703703703703703\n",
      "F1-Measure = 0.8952380952380952\n"
     ]
    },
    {
     "data": {
      "text/plain": [
       "array([[103.,   4.],\n",
       "       [  7.,  47.]])"
      ]
     },
     "execution_count": 18,
     "metadata": {},
     "output_type": "execute_result"
    }
   ],
   "source": [
    "from pyspark.ml.classification import RandomForestClassifier\n",
    "from pyspark.ml.evaluation import BinaryClassificationEvaluator, MulticlassClassificationEvaluator\n",
    "from pyspark.ml.tuning import ParamGridBuilder, CrossValidator\n",
    "from pyspark.mllib.evaluation import MulticlassMetrics\n",
    "\n",
    "# Define the model\n",
    "rf = RandomForestClassifier(featuresCol='features', labelCol='Survived').fit(train)\n",
    "\n",
    "predictions_rf = rf.transform(test)\n",
    "predictions_rf = predictions_rf.withColumn('prediction', col('prediction').cast('double'))\n",
    "predictions_rf = predictions_rf.withColumn('Survived', col('Survived').cast('double'))\n",
    "\n",
    "metrics1 = MulticlassMetrics(predictions_rf.select(['prediction', 'Survived']).rdd.map(tuple))\n",
    "\n",
    "\n",
    "print(\"RANDOM FOREST Classifier:\")\n",
    "print(\"Accuracy   = \" + str(metrics1.accuracy))\n",
    "print(\"Precision  = \" + str(metrics1.precision(1.0)))\n",
    "print(\"Recall     = \" + str(metrics1.recall(1.0)))\n",
    "print(\"F1-Measure = \" + str(metrics1.fMeasure(1.0)))\n",
    "metrics1.confusionMatrix().toArray()"
   ]
  },
  {
   "cell_type": "code",
   "execution_count": 19,
   "metadata": {},
   "outputs": [
    {
     "data": {
      "image/png": "[encoded data removed]",
      "text/plain": [
       "<Figure size 1000x800 with 2 Axes>"
      ]
     },
     "metadata": {},
     "output_type": "display_data"
    }
   ],
   "source": [
    "confusion_matrix = predictions_rf.crosstab(\"Survived\", \"prediction\")\n",
    "confusion_matrix = confusion_matrix.toDF(*[\"label_pred_\" + c if c != \"Survived_prediction\" else \"Actual_Label\" for c in confusion_matrix.columns])\n",
    "confusion_matrix_pd = confusion_matrix.toPandas()\n",
    "confusion_matrix_pd.set_index('Actual_Label', inplace=True)\n",
    "\n",
    "plt.figure(figsize=(10, 8))\n",
    "sns.heatmap(confusion_matrix_pd, annot=True, fmt=\"d\", cmap='Blues')\n",
    "plt.title('Confusion Matrix')\n",
    "plt.ylabel('Actual Label')\n",
    "plt.xlabel('Predicted Label')\n",
    "plt.show()\n"
   ]
  },
  {
   "cell_type": "markdown",
   "metadata": {},
   "source": [
    "### Terbukti dengan penambahan fitur untuk melakukan klasifikasi pada RandomForest dengan seed 1917 dapat meningkatkan akurasi"
   ]
  }
 ],
 "metadata": {
  "kernelspec": {
   "display_name": "Python 3 (ipykernel)",
   "language": "python",
   "name": "python3"
  },
  "language_info": {
   "codemirror_mode": {
    "name": "ipython",
    "version": 3
   },
   "file_extension": ".py",
   "mimetype": "text/x-python",
   "name": "python",
   "nbconvert_exporter": "python",
   "pygments_lexer": "ipython3",
   "version": "3.11.8"
  }
 },
 "nbformat": 4,
 "nbformat_minor": 4
}
